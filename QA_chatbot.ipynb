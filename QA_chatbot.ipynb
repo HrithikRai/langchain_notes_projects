{
 "cells": [
  {
   "cell_type": "code",
   "execution_count": 1,
   "metadata": {},
   "outputs": [],
   "source": [
    "%load_ext dotenv\n",
    "%dotenv\n",
    "import os\n",
    "cohere_api_key = os.getenv('COHERE_API_KEY')\n",
    "from langchain_cohere import ChatCohere\n",
    "chat = ChatCohere(cohere_api_key=cohere_api_key)"
   ]
  },
  {
   "cell_type": "code",
   "execution_count": 5,
   "metadata": {},
   "outputs": [],
   "source": [
    "from langchain_community.document_loaders import PyPDFLoader\n",
    "loader_pdf = PyPDFLoader('resources/ds_course.pdf')"
   ]
  },
  {
   "cell_type": "code",
   "execution_count": 46,
   "metadata": {},
   "outputs": [],
   "source": [
    "pages_pdf = loader_pdf.load()"
   ]
  },
  {
   "cell_type": "code",
   "execution_count": 47,
   "metadata": {},
   "outputs": [
    {
     "data": {
      "text/plain": [
       "[Document(metadata={'source': 'resources/ds_course.pdf', 'page': 0}, page_content='# Introduction to Data and Data Science \\n## Big Data Real-life Examples \\n \\nAll right! So… Where do we find big data? The answer is in increasingly more industries and \\ncompanies. Here are a few notable examples. \\nAs one of the largest online communities, ‘Facebook’ keeps track of its user’s names, personal \\ndata, photos, videos, recorded messages and so on. This means their data has a lot of variety. And \\nwith over 2 billion users worldwide, the volume of data stored on their servers is tremendous. \\nFacebook requires real-time reporting of the aggregated, anonymized voice of its users, and it \\napplies many analytical tools for its mobile applications. This means the company is investing in \\nboosting its real-time data processing powers, increasing the velocity of its data set. \\nGreat stuff! \\nNow, where else can we find ‘big data’? \\nLet’s take financial trading data for example. What happens when we record the stock price every 5 \\nseconds? Or every single second? We get a dataset that is incredibly voluminous, requiring \\nsignificantly more memory, disk space and various techniques to extract meaningful information \\nfrom it. Data like this would be also considered ‘big data’. \\nWe hope these examples clarify the use of big data in the real world. \\nCatch you later! \\n## Machine Learning (ML) Real-life Examples \\n \\nRight! So… How does machine learning fit into the world of data science? \\nOne example is the financial sector and banks in particular. They have ginormous datasets of credit \\ncard transactions. Unfortunately, banks are facing issues with fraud daily. They are tasked with \\npreventing fraudsters from acquiring customer data and in order to keep customer’s funds safe \\nthey use machine learning algorithms. They take past data, and because they can tell the computer \\nwhich transactions in their history were legitimate, and which were found to be fraudulent, they \\ncan label the data as such. \\n'),\n",
       " Document(metadata={'source': 'resources/ds_course.pdf', 'page': 1}, page_content='So, through supervised learning, they train models that detect fraudulent activity. When these \\nmodels detect even the slightest probability of theft, they flag the transactions, and prevent the \\nfraud in real time! \\nAlthough no one in the sector has reached a perfect solution, the impact of machine learning \\nalgorithms has been ground-breaking. \\nAnother example of using supervised machine learning with labelled data can be found in client \\nretention. A focus of any business, be it a global supermarket chain or an online clothing shop, is to \\nretain its customers. But the larger a business grows, the harder it is to keep track of customer \\ntrends. \\nA local corner shop owner will recognize and get to know their most loyal customers. They will offer \\nthem exclusive discounts to thank them for their custom and by doing so, keep them returning. On \\na larger scale, companies can use machine learning and past labelled data to automate the \\npractice. And with this they can know which customers may purchase goods from them. This \\nmeans the store can offer discounts and a ‘personal touch’ in an efficient way, minimizing \\nmarketing costs and maximizing profits. \\nWith this video we close the two biggest rows of our infographic, having explained the main \\ntechniques used for working with data and data science, and their application. See you in the next \\nsection! \\n \\n# Introduction to Excel \\n## The Secret to Faster Scrolling in Excel \\n \\nIn this section of the course, we are showing useful tips which aim to facilitate your work in Excel. \\nThe topic of this extract is fast scrolling through Excel sheets. \\n \\nWhen working with a vast amount of data, it is crucial to move fast within the sheet without losing \\nprecious time in order to scroll manually. The Excel shortcut for fast scrolling is Control plus one of \\nthe Arrow keys. This command takes you to the last non-blank cell. \\n \\nLet’s provide an example. \\n \\nHere, we have a table which contains 15,000 rows. Is there a fast way to go to the end of the table? \\nCurrently I’m in cell D4.  By holding the Control key and pressing the down arrow, I find myself \\ninstantly in row 15121, which is the last non-blank cell. \\n \\n'),\n",
       " Document(metadata={'source': 'resources/ds_course.pdf', 'page': 2}, page_content='This command allows you to go in every direction—downwards, upwards, to the right and to the \\nleft. If we want to select the cells, we have to hold Shift as well, in a manner that we will be pressing \\nControl, Shift and an arrow key at the same time. \\n \\nSee? This allows me to quickly select large ranges of cells and work efficiently. This is how you can \\nscroll fast and quickly select large cell ranges. \\n \\nThanks for watching. \\n## Create Easily Printable Excel Documents \\n \\nHello everybody, let’s have a quick demonstration on how to set a print area. \\n \\nVery often we need to print our work in Excel. Therefore, it is key to produce printable documents. \\nWe need to learn how to organize our documents, imagining that someone will print them out at \\nsome point. \\n \\nIn order to do that we have to organize well all the sheets and the information flows. Once this is \\ndone, we can go ahead and select which parts of each sheet should be printed out and which parts \\nof the sheet shouldn’t be printed. \\n \\nLet’s assign a printable area for the sheet which we have here. First, I’ll select the area that should \\nbe printed. Then I’ll go to the menu bar and select “Page Layout,” where we have the “Print Area” \\nmenu. I’ll click on it and select “Set Print Area.” \\n \\nSee how Excel put a border to the print area of our sheet? If we print it, only the selected area will \\nbe printed. \\n \\nThis is how you can set a print area. Thank you for watching this video. ')]"
      ]
     },
     "execution_count": 47,
     "metadata": {},
     "output_type": "execute_result"
    }
   ],
   "source": [
    "pages_pdf"
   ]
  },
  {
   "cell_type": "code",
   "execution_count": null,
   "metadata": {},
   "outputs": [],
   "source": [
    "for i in pages_pdf:\n",
    "    i.page_content = ' '.join(i.page_content.split())"
   ]
  },
  {
   "cell_type": "code",
   "execution_count": 48,
   "metadata": {},
   "outputs": [
    {
     "data": {
      "text/plain": [
       "[Document(metadata={'source': 'resources/ds_course.pdf', 'page': 0}, page_content='# Introduction to Data and Data Science \\n## Big Data Real-life Examples \\n \\nAll right! So… Where do we find big data? The answer is in increasingly more industries and \\ncompanies. Here are a few notable examples. \\nAs one of the largest online communities, ‘Facebook’ keeps track of its user’s names, personal \\ndata, photos, videos, recorded messages and so on. This means their data has a lot of variety. And \\nwith over 2 billion users worldwide, the volume of data stored on their servers is tremendous. \\nFacebook requires real-time reporting of the aggregated, anonymized voice of its users, and it \\napplies many analytical tools for its mobile applications. This means the company is investing in \\nboosting its real-time data processing powers, increasing the velocity of its data set. \\nGreat stuff! \\nNow, where else can we find ‘big data’? \\nLet’s take financial trading data for example. What happens when we record the stock price every 5 \\nseconds? Or every single second? We get a dataset that is incredibly voluminous, requiring \\nsignificantly more memory, disk space and various techniques to extract meaningful information \\nfrom it. Data like this would be also considered ‘big data’. \\nWe hope these examples clarify the use of big data in the real world. \\nCatch you later! \\n## Machine Learning (ML) Real-life Examples \\n \\nRight! So… How does machine learning fit into the world of data science? \\nOne example is the financial sector and banks in particular. They have ginormous datasets of credit \\ncard transactions. Unfortunately, banks are facing issues with fraud daily. They are tasked with \\npreventing fraudsters from acquiring customer data and in order to keep customer’s funds safe \\nthey use machine learning algorithms. They take past data, and because they can tell the computer \\nwhich transactions in their history were legitimate, and which were found to be fraudulent, they \\ncan label the data as such. \\n'),\n",
       " Document(metadata={'source': 'resources/ds_course.pdf', 'page': 1}, page_content='So, through supervised learning, they train models that detect fraudulent activity. When these \\nmodels detect even the slightest probability of theft, they flag the transactions, and prevent the \\nfraud in real time! \\nAlthough no one in the sector has reached a perfect solution, the impact of machine learning \\nalgorithms has been ground-breaking. \\nAnother example of using supervised machine learning with labelled data can be found in client \\nretention. A focus of any business, be it a global supermarket chain or an online clothing shop, is to \\nretain its customers. But the larger a business grows, the harder it is to keep track of customer \\ntrends. \\nA local corner shop owner will recognize and get to know their most loyal customers. They will offer \\nthem exclusive discounts to thank them for their custom and by doing so, keep them returning. On \\na larger scale, companies can use machine learning and past labelled data to automate the \\npractice. And with this they can know which customers may purchase goods from them. This \\nmeans the store can offer discounts and a ‘personal touch’ in an efficient way, minimizing \\nmarketing costs and maximizing profits. \\nWith this video we close the two biggest rows of our infographic, having explained the main \\ntechniques used for working with data and data science, and their application. See you in the next \\nsection! \\n \\n# Introduction to Excel \\n## The Secret to Faster Scrolling in Excel \\n \\nIn this section of the course, we are showing useful tips which aim to facilitate your work in Excel. \\nThe topic of this extract is fast scrolling through Excel sheets. \\n \\nWhen working with a vast amount of data, it is crucial to move fast within the sheet without losing \\nprecious time in order to scroll manually. The Excel shortcut for fast scrolling is Control plus one of \\nthe Arrow keys. This command takes you to the last non-blank cell. \\n \\nLet’s provide an example. \\n \\nHere, we have a table which contains 15,000 rows. Is there a fast way to go to the end of the table? \\nCurrently I’m in cell D4.  By holding the Control key and pressing the down arrow, I find myself \\ninstantly in row 15121, which is the last non-blank cell. \\n \\n'),\n",
       " Document(metadata={'source': 'resources/ds_course.pdf', 'page': 2}, page_content='This command allows you to go in every direction—downwards, upwards, to the right and to the \\nleft. If we want to select the cells, we have to hold Shift as well, in a manner that we will be pressing \\nControl, Shift and an arrow key at the same time. \\n \\nSee? This allows me to quickly select large ranges of cells and work efficiently. This is how you can \\nscroll fast and quickly select large cell ranges. \\n \\nThanks for watching. \\n## Create Easily Printable Excel Documents \\n \\nHello everybody, let’s have a quick demonstration on how to set a print area. \\n \\nVery often we need to print our work in Excel. Therefore, it is key to produce printable documents. \\nWe need to learn how to organize our documents, imagining that someone will print them out at \\nsome point. \\n \\nIn order to do that we have to organize well all the sheets and the information flows. Once this is \\ndone, we can go ahead and select which parts of each sheet should be printed out and which parts \\nof the sheet shouldn’t be printed. \\n \\nLet’s assign a printable area for the sheet which we have here. First, I’ll select the area that should \\nbe printed. Then I’ll go to the menu bar and select “Page Layout,” where we have the “Print Area” \\nmenu. I’ll click on it and select “Set Print Area.” \\n \\nSee how Excel put a border to the print area of our sheet? If we print it, only the selected area will \\nbe printed. \\n \\nThis is how you can set a print area. Thank you for watching this video. ')]"
      ]
     },
     "execution_count": 48,
     "metadata": {},
     "output_type": "execute_result"
    }
   ],
   "source": [
    "pages_pdf"
   ]
  },
  {
   "cell_type": "code",
   "execution_count": 49,
   "metadata": {},
   "outputs": [],
   "source": [
    "all_page_content = ''\n",
    "for i in pages_pdf:\n",
    "    all_page_content+=i.page_content"
   ]
  },
  {
   "cell_type": "code",
   "execution_count": 50,
   "metadata": {},
   "outputs": [
    {
     "data": {
      "text/plain": [
       "'# Introduction to Data and Data Science \\n## Big Data Real-life Examples \\n \\nAll right! So… Where do we find big data? The answer is in increasingly more industries and \\ncompanies. Here are a few notable examples. \\nAs one of the largest online communities, ‘Facebook’ keeps track of its user’s names, personal \\ndata, photos, videos, recorded messages and so on. This means their data has a lot of variety. And \\nwith over 2 billion users worldwide, the volume of data stored on their servers is tremendous. \\nFacebook requires real-time reporting of the aggregated, anonymized voice of its users, and it \\napplies many analytical tools for its mobile applications. This means the company is investing in \\nboosting its real-time data processing powers, increasing the velocity of its data set. \\nGreat stuff! \\nNow, where else can we find ‘big data’? \\nLet’s take financial trading data for example. What happens when we record the stock price every 5 \\nseconds? Or every single second? We get a dataset that is incredibly voluminous, requiring \\nsignificantly more memory, disk space and various techniques to extract meaningful information \\nfrom it. Data like this would be also considered ‘big data’. \\nWe hope these examples clarify the use of big data in the real world. \\nCatch you later! \\n## Machine Learning (ML) Real-life Examples \\n \\nRight! So… How does machine learning fit into the world of data science? \\nOne example is the financial sector and banks in particular. They have ginormous datasets of credit \\ncard transactions. Unfortunately, banks are facing issues with fraud daily. They are tasked with \\npreventing fraudsters from acquiring customer data and in order to keep customer’s funds safe \\nthey use machine learning algorithms. They take past data, and because they can tell the computer \\nwhich transactions in their history were legitimate, and which were found to be fraudulent, they \\ncan label the data as such. \\nSo, through supervised learning, they train models that detect fraudulent activity. When these \\nmodels detect even the slightest probability of theft, they flag the transactions, and prevent the \\nfraud in real time! \\nAlthough no one in the sector has reached a perfect solution, the impact of machine learning \\nalgorithms has been ground-breaking. \\nAnother example of using supervised machine learning with labelled data can be found in client \\nretention. A focus of any business, be it a global supermarket chain or an online clothing shop, is to \\nretain its customers. But the larger a business grows, the harder it is to keep track of customer \\ntrends. \\nA local corner shop owner will recognize and get to know their most loyal customers. They will offer \\nthem exclusive discounts to thank them for their custom and by doing so, keep them returning. On \\na larger scale, companies can use machine learning and past labelled data to automate the \\npractice. And with this they can know which customers may purchase goods from them. This \\nmeans the store can offer discounts and a ‘personal touch’ in an efficient way, minimizing \\nmarketing costs and maximizing profits. \\nWith this video we close the two biggest rows of our infographic, having explained the main \\ntechniques used for working with data and data science, and their application. See you in the next \\nsection! \\n \\n# Introduction to Excel \\n## The Secret to Faster Scrolling in Excel \\n \\nIn this section of the course, we are showing useful tips which aim to facilitate your work in Excel. \\nThe topic of this extract is fast scrolling through Excel sheets. \\n \\nWhen working with a vast amount of data, it is crucial to move fast within the sheet without losing \\nprecious time in order to scroll manually. The Excel shortcut for fast scrolling is Control plus one of \\nthe Arrow keys. This command takes you to the last non-blank cell. \\n \\nLet’s provide an example. \\n \\nHere, we have a table which contains 15,000 rows. Is there a fast way to go to the end of the table? \\nCurrently I’m in cell D4.  By holding the Control key and pressing the down arrow, I find myself \\ninstantly in row 15121, which is the last non-blank cell. \\n \\nThis command allows you to go in every direction—downwards, upwards, to the right and to the \\nleft. If we want to select the cells, we have to hold Shift as well, in a manner that we will be pressing \\nControl, Shift and an arrow key at the same time. \\n \\nSee? This allows me to quickly select large ranges of cells and work efficiently. This is how you can \\nscroll fast and quickly select large cell ranges. \\n \\nThanks for watching. \\n## Create Easily Printable Excel Documents \\n \\nHello everybody, let’s have a quick demonstration on how to set a print area. \\n \\nVery often we need to print our work in Excel. Therefore, it is key to produce printable documents. \\nWe need to learn how to organize our documents, imagining that someone will print them out at \\nsome point. \\n \\nIn order to do that we have to organize well all the sheets and the information flows. Once this is \\ndone, we can go ahead and select which parts of each sheet should be printed out and which parts \\nof the sheet shouldn’t be printed. \\n \\nLet’s assign a printable area for the sheet which we have here. First, I’ll select the area that should \\nbe printed. Then I’ll go to the menu bar and select “Page Layout,” where we have the “Print Area” \\nmenu. I’ll click on it and select “Set Print Area.” \\n \\nSee how Excel put a border to the print area of our sheet? If we print it, only the selected area will \\nbe printed. \\n \\nThis is how you can set a print area. Thank you for watching this video. '"
      ]
     },
     "execution_count": 50,
     "metadata": {},
     "output_type": "execute_result"
    }
   ],
   "source": [
    "all_page_content"
   ]
  },
  {
   "cell_type": "code",
   "execution_count": 9,
   "metadata": {},
   "outputs": [
    {
     "data": {
      "text/plain": [
       "[Document(metadata={'source': 'resources/ds_course.pdf', 'page': 0}, page_content='# Introduction to Data and Data Science ## Big Data Real-life Examples All right! So… Where do we find big data? The answer is in increasingly more industries and companies. Here are a few notable examples. As one of the largest online communities, ‘Facebook’ keeps track of its user’s names, personal data, photos, videos, recorded messages and so on. This means their data has a lot of variety. And with over 2 billion users worldwide, the volume of data stored on their servers is tremendous. Facebook requires real-time reporting of the aggregated, anonymized voice of its users, and it applies many analytical tools for its mobile applications. This means the company is investing in boosting its real-time data processing powers, increasing the velocity of its data set. Great stuff! Now, where else can we find ‘big data’? Let’s take financial trading data for example. What happens when we record the stock price every 5 seconds? Or every single second? We get a dataset that is incredibly voluminous, requiring significantly more memory, disk space and various techniques to extract meaningful information from it. Data like this would be also considered ‘big data’. We hope these examples clarify the use of big data in the real world. Catch you later! ## Machine Learning (ML) Real-life Examples Right! So… How does machine learning fit into the world of data science? One example is the financial sector and banks in particular. They have ginormous datasets of credit card transactions. Unfortunately, banks are facing issues with fraud daily. They are tasked with preventing fraudsters from acquiring customer data and in order to keep customer’s funds safe they use machine learning algorithms. They take past data, and because they can tell the computer which transactions in their history were legitimate, and which were found to be fraudulent, they can label the data as such.'),\n",
       " Document(metadata={'source': 'resources/ds_course.pdf', 'page': 1}, page_content='So, through supervised learning, they train models that detect fraudulent activity. When these models detect even the slightest probability of theft, they flag the transactions, and prevent the fraud in real time! Although no one in the sector has reached a perfect solution, the impact of machine learning algorithms has been ground-breaking. Another example of using supervised machine learning with labelled data can be found in client retention. A focus of any business, be it a global supermarket chain or an online clothing shop, is to retain its customers. But the larger a business grows, the harder it is to keep track of customer trends. A local corner shop owner will recognize and get to know their most loyal customers. They will offer them exclusive discounts to thank them for their custom and by doing so, keep them returning. On a larger scale, companies can use machine learning and past labelled data to automate the practice. And with this they can know which customers may purchase goods from them. This means the store can offer discounts and a ‘personal touch’ in an efficient way, minimizing marketing costs and maximizing profits. With this video we close the two biggest rows of our infographic, having explained the main techniques used for working with data and data science, and their application. See you in the next section! # Introduction to Excel ## The Secret to Faster Scrolling in Excel In this section of the course, we are showing useful tips which aim to facilitate your work in Excel. The topic of this extract is fast scrolling through Excel sheets. When working with a vast amount of data, it is crucial to move fast within the sheet without losing precious time in order to scroll manually. The Excel shortcut for fast scrolling is Control plus one of the Arrow keys. This command takes you to the last non-blank cell. Let’s provide an example. Here, we have a table which contains 15,000 rows. Is there a fast way to go to the end of the table? Currently I’m in cell D4. By holding the Control key and pressing the down arrow, I find myself instantly in row 15121, which is the last non-blank cell.'),\n",
       " Document(metadata={'source': 'resources/ds_course.pdf', 'page': 2}, page_content='This command allows you to go in every direction—downwards, upwards, to the right and to the left. If we want to select the cells, we have to hold Shift as well, in a manner that we will be pressing Control, Shift and an arrow key at the same time. See? This allows me to quickly select large ranges of cells and work efficiently. This is how you can scroll fast and quickly select large cell ranges. Thanks for watching. ## Create Easily Printable Excel Documents Hello everybody, let’s have a quick demonstration on how to set a print area. Very often we need to print our work in Excel. Therefore, it is key to produce printable documents. We need to learn how to organize our documents, imagining that someone will print them out at some point. In order to do that we have to organize well all the sheets and the information flows. Once this is done, we can go ahead and select which parts of each sheet should be printed out and which parts of the sheet shouldn’t be printed. Let’s assign a printable area for the sheet which we have here. First, I’ll select the area that should be printed. Then I’ll go to the menu bar and select “Page Layout,” where we have the “Print Area” menu. I’ll click on it and select “Set Print Area.” See how Excel put a border to the print area of our sheet? If we print it, only the selected area will be printed. This is how you can set a print area. Thank you for watching this video.')]"
      ]
     },
     "execution_count": 9,
     "metadata": {},
     "output_type": "execute_result"
    }
   ],
   "source": [
    "pages_pdf"
   ]
  },
  {
   "cell_type": "code",
   "execution_count": 51,
   "metadata": {},
   "outputs": [],
   "source": [
    "from langchain_text_splitters.markdown import MarkdownHeaderTextSplitter\n",
    "md_splitter = MarkdownHeaderTextSplitter(headers_to_split_on=[('#','Course Title'),\n",
    "                                                             ('##','Lecture Title')\n",
    "                                                             ])"
   ]
  },
  {
   "cell_type": "code",
   "execution_count": 53,
   "metadata": {},
   "outputs": [],
   "source": [
    "pages_md_split = md_splitter.split_text(all_page_content)"
   ]
  },
  {
   "cell_type": "code",
   "execution_count": null,
   "metadata": {},
   "outputs": [
    {
     "data": {
      "text/plain": [
       "[Document(metadata={'Course Title': 'Introduction to Data and Data Science', 'Lecture Title': 'Big Data Real-life Examples'}, page_content='All right! So… Where do we find big data? The answer is in increasingly more industries and\\ncompanies. Here are a few notable examples.\\nAs one of the largest online communities, ‘Facebook’ keeps track of its user’s names, personal\\ndata, photos, videos, recorded messages and so on. This means their data has a lot of variety. And\\nwith over 2 billion users worldwide, the volume of data stored on their servers is tremendous.\\nFacebook requires real-time reporting of the aggregated, anonymized voice of its users, and it\\napplies many analytical tools for its mobile applications. This means the company is investing in\\nboosting its real-time data processing powers, increasing the velocity of its data set.\\nGreat stuff!\\nNow, where else can we find ‘big data’?\\nLet’s take financial trading data for example. What happens when we record the stock price every 5\\nseconds? Or every single second? We get a dataset that is incredibly voluminous, requiring\\nsignificantly more memory, disk space and various techniques to extract meaningful information\\nfrom it. Data like this would be also considered ‘big data’.\\nWe hope these examples clarify the use of big data in the real world.\\nCatch you later!'),\n",
       " Document(metadata={'Course Title': 'Introduction to Data and Data Science', 'Lecture Title': 'Machine Learning (ML) Real-life Examples'}, page_content='Right! So… How does machine learning fit into the world of data science?\\nOne example is the financial sector and banks in particular. They have ginormous datasets of credit\\ncard transactions. Unfortunately, banks are facing issues with fraud daily. They are tasked with\\npreventing fraudsters from acquiring customer data and in order to keep customer’s funds safe\\nthey use machine learning algorithms. They take past data, and because they can tell the computer\\nwhich transactions in their history were legitimate, and which were found to be fraudulent, they\\ncan label the data as such.\\nSo, through supervised learning, they train models that detect fraudulent activity. When these\\nmodels detect even the slightest probability of theft, they flag the transactions, and prevent the\\nfraud in real time!\\nAlthough no one in the sector has reached a perfect solution, the impact of machine learning\\nalgorithms has been ground-breaking.\\nAnother example of using supervised machine learning with labelled data can be found in client\\nretention. A focus of any business, be it a global supermarket chain or an online clothing shop, is to\\nretain its customers. But the larger a business grows, the harder it is to keep track of customer\\ntrends.\\nA local corner shop owner will recognize and get to know their most loyal customers. They will offer\\nthem exclusive discounts to thank them for their custom and by doing so, keep them returning. On\\na larger scale, companies can use machine learning and past labelled data to automate the\\npractice. And with this they can know which customers may purchase goods from them. This\\nmeans the store can offer discounts and a ‘personal touch’ in an efficient way, minimizing\\nmarketing costs and maximizing profits.\\nWith this video we close the two biggest rows of our infographic, having explained the main\\ntechniques used for working with data and data science, and their application. See you in the next\\nsection!'),\n",
       " Document(metadata={'Course Title': 'Introduction to Excel', 'Lecture Title': 'The Secret to Faster Scrolling in Excel'}, page_content='In this section of the course, we are showing useful tips which aim to facilitate your work in Excel.\\nThe topic of this extract is fast scrolling through Excel sheets.  \\nWhen working with a vast amount of data, it is crucial to move fast within the sheet without losing\\nprecious time in order to scroll manually. The Excel shortcut for fast scrolling is Control plus one of\\nthe Arrow keys. This command takes you to the last non-blank cell.  \\nLet’s provide an example.  \\nHere, we have a table which contains 15,000 rows. Is there a fast way to go to the end of the table?\\nCurrently I’m in cell D4.  By holding the Control key and pressing the down arrow, I find myself\\ninstantly in row 15121, which is the last non-blank cell.  \\nThis command allows you to go in every direction—downwards, upwards, to the right and to the\\nleft. If we want to select the cells, we have to hold Shift as well, in a manner that we will be pressing\\nControl, Shift and an arrow key at the same time.  \\nSee? This allows me to quickly select large ranges of cells and work efficiently. This is how you can\\nscroll fast and quickly select large cell ranges.  \\nThanks for watching.'),\n",
       " Document(metadata={'Course Title': 'Introduction to Excel', 'Lecture Title': 'Create Easily Printable Excel Documents'}, page_content='Hello everybody, let’s have a quick demonstration on how to set a print area.  \\nVery often we need to print our work in Excel. Therefore, it is key to produce printable documents.\\nWe need to learn how to organize our documents, imagining that someone will print them out at\\nsome point.  \\nIn order to do that we have to organize well all the sheets and the information flows. Once this is\\ndone, we can go ahead and select which parts of each sheet should be printed out and which parts\\nof the sheet shouldn’t be printed.  \\nLet’s assign a printable area for the sheet which we have here. First, I’ll select the area that should\\nbe printed. Then I’ll go to the menu bar and select “Page Layout,” where we have the “Print Area”\\nmenu. I’ll click on it and select “Set Print Area.”  \\nSee how Excel put a border to the print area of our sheet? If we print it, only the selected area will\\nbe printed.  \\nThis is how you can set a print area. Thank you for watching this video.')]"
      ]
     },
     "execution_count": 54,
     "metadata": {},
     "output_type": "execute_result"
    }
   ],
   "source": [
    "# dont perform unncessary formatiing like newline before markdown split\n",
    "pages_md_split"
   ]
  },
  {
   "cell_type": "code",
   "execution_count": 55,
   "metadata": {},
   "outputs": [],
   "source": [
    "from langchain_text_splitters.character import CharacterTextSplitter\n",
    "char_splitter = CharacterTextSplitter(separator=\".\",chunk_size=400,chunk_overlap=0)"
   ]
  },
  {
   "cell_type": "code",
   "execution_count": 56,
   "metadata": {},
   "outputs": [],
   "source": [
    "pages_char_split = char_splitter.split_documents(pages_md_split)"
   ]
  },
  {
   "cell_type": "code",
   "execution_count": 64,
   "metadata": {},
   "outputs": [
    {
     "data": {
      "text/plain": [
       "[Document(metadata={'Course Title': 'Introduction to Data and Data Science', 'Lecture Title': 'Big Data Real-life Examples'}, page_content='All right! So… Where do we find big data? The answer is in increasingly more industries and\\ncompanies. Here are a few notable examples.\\nAs one of the largest online communities, ‘Facebook’ keeps track of its user’s names, personal\\ndata, photos, videos, recorded messages and so on. This means their data has a lot of variety'),\n",
       " Document(metadata={'Course Title': 'Introduction to Data and Data Science', 'Lecture Title': 'Big Data Real-life Examples'}, page_content='And\\nwith over 2 billion users worldwide, the volume of data stored on their servers is tremendous.\\nFacebook requires real-time reporting of the aggregated, anonymized voice of its users, and it\\napplies many analytical tools for its mobile applications. This means the company is investing in\\nboosting its real-time data processing powers, increasing the velocity of its data set'),\n",
       " Document(metadata={'Course Title': 'Introduction to Data and Data Science', 'Lecture Title': 'Big Data Real-life Examples'}, page_content='Great stuff!\\nNow, where else can we find ‘big data’?\\nLet’s take financial trading data for example. What happens when we record the stock price every 5\\nseconds? Or every single second? We get a dataset that is incredibly voluminous, requiring\\nsignificantly more memory, disk space and various techniques to extract meaningful information\\nfrom it. Data like this would be also considered ‘big data’'),\n",
       " Document(metadata={'Course Title': 'Introduction to Data and Data Science', 'Lecture Title': 'Big Data Real-life Examples'}, page_content='We hope these examples clarify the use of big data in the real world.\\nCatch you later!'),\n",
       " Document(metadata={'Course Title': 'Introduction to Data and Data Science', 'Lecture Title': 'Machine Learning (ML) Real-life Examples'}, page_content='Right! So… How does machine learning fit into the world of data science?\\nOne example is the financial sector and banks in particular. They have ginormous datasets of credit\\ncard transactions. Unfortunately, banks are facing issues with fraud daily. They are tasked with\\npreventing fraudsters from acquiring customer data and in order to keep customer’s funds safe\\nthey use machine learning algorithms'),\n",
       " Document(metadata={'Course Title': 'Introduction to Data and Data Science', 'Lecture Title': 'Machine Learning (ML) Real-life Examples'}, page_content='They take past data, and because they can tell the computer\\nwhich transactions in their history were legitimate, and which were found to be fraudulent, they\\ncan label the data as such.\\nSo, through supervised learning, they train models that detect fraudulent activity'),\n",
       " Document(metadata={'Course Title': 'Introduction to Data and Data Science', 'Lecture Title': 'Machine Learning (ML) Real-life Examples'}, page_content='When these\\nmodels detect even the slightest probability of theft, they flag the transactions, and prevent the\\nfraud in real time!\\nAlthough no one in the sector has reached a perfect solution, the impact of machine learning\\nalgorithms has been ground-breaking.\\nAnother example of using supervised machine learning with labelled data can be found in client\\nretention'),\n",
       " Document(metadata={'Course Title': 'Introduction to Data and Data Science', 'Lecture Title': 'Machine Learning (ML) Real-life Examples'}, page_content='A focus of any business, be it a global supermarket chain or an online clothing shop, is to\\nretain its customers. But the larger a business grows, the harder it is to keep track of customer\\ntrends.\\nA local corner shop owner will recognize and get to know their most loyal customers. They will offer\\nthem exclusive discounts to thank them for their custom and by doing so, keep them returning'),\n",
       " Document(metadata={'Course Title': 'Introduction to Data and Data Science', 'Lecture Title': 'Machine Learning (ML) Real-life Examples'}, page_content='On\\na larger scale, companies can use machine learning and past labelled data to automate the\\npractice. And with this they can know which customers may purchase goods from them. This\\nmeans the store can offer discounts and a ‘personal touch’ in an efficient way, minimizing\\nmarketing costs and maximizing profits'),\n",
       " Document(metadata={'Course Title': 'Introduction to Data and Data Science', 'Lecture Title': 'Machine Learning (ML) Real-life Examples'}, page_content='With this video we close the two biggest rows of our infographic, having explained the main\\ntechniques used for working with data and data science, and their application. See you in the next\\nsection!'),\n",
       " Document(metadata={'Course Title': 'Introduction to Excel', 'Lecture Title': 'The Secret to Faster Scrolling in Excel'}, page_content='In this section of the course, we are showing useful tips which aim to facilitate your work in Excel.\\nThe topic of this extract is fast scrolling through Excel sheets.  \\nWhen working with a vast amount of data, it is crucial to move fast within the sheet without losing\\nprecious time in order to scroll manually. The Excel shortcut for fast scrolling is Control plus one of\\nthe Arrow keys'),\n",
       " Document(metadata={'Course Title': 'Introduction to Excel', 'Lecture Title': 'The Secret to Faster Scrolling in Excel'}, page_content='This command takes you to the last non-blank cell.  \\nLet’s provide an example.  \\nHere, we have a table which contains 15,000 rows. Is there a fast way to go to the end of the table?\\nCurrently I’m in cell D4.  By holding the Control key and pressing the down arrow, I find myself\\ninstantly in row 15121, which is the last non-blank cell'),\n",
       " Document(metadata={'Course Title': 'Introduction to Excel', 'Lecture Title': 'The Secret to Faster Scrolling in Excel'}, page_content='This command allows you to go in every direction—downwards, upwards, to the right and to the\\nleft. If we want to select the cells, we have to hold Shift as well, in a manner that we will be pressing\\nControl, Shift and an arrow key at the same time.  \\nSee? This allows me to quickly select large ranges of cells and work efficiently'),\n",
       " Document(metadata={'Course Title': 'Introduction to Excel', 'Lecture Title': 'The Secret to Faster Scrolling in Excel'}, page_content='This is how you can\\nscroll fast and quickly select large cell ranges.  \\nThanks for watching'),\n",
       " Document(metadata={'Course Title': 'Introduction to Excel', 'Lecture Title': 'Create Easily Printable Excel Documents'}, page_content='Hello everybody, let’s have a quick demonstration on how to set a print area.  \\nVery often we need to print our work in Excel. Therefore, it is key to produce printable documents.\\nWe need to learn how to organize our documents, imagining that someone will print them out at\\nsome point.  \\nIn order to do that we have to organize well all the sheets and the information flows'),\n",
       " Document(metadata={'Course Title': 'Introduction to Excel', 'Lecture Title': 'Create Easily Printable Excel Documents'}, page_content='Once this is\\ndone, we can go ahead and select which parts of each sheet should be printed out and which parts\\nof the sheet shouldn’t be printed.  \\nLet’s assign a printable area for the sheet which we have here. First, I’ll select the area that should\\nbe printed. Then I’ll go to the menu bar and select “Page Layout,” where we have the “Print Area”\\nmenu. I’ll click on it and select “Set Print Area'),\n",
       " Document(metadata={'Course Title': 'Introduction to Excel', 'Lecture Title': 'Create Easily Printable Excel Documents'}, page_content='”  \\nSee how Excel put a border to the print area of our sheet? If we print it, only the selected area will\\nbe printed.  \\nThis is how you can set a print area. Thank you for watching this video')]"
      ]
     },
     "execution_count": 64,
     "metadata": {},
     "output_type": "execute_result"
    }
   ],
   "source": [
    "pages_char_split"
   ]
  },
  {
   "cell_type": "code",
   "execution_count": 60,
   "metadata": {},
   "outputs": [],
   "source": [
    "# Embedding the data\n",
    "from langchain_cohere import CohereEmbeddings\n",
    "\n",
    "embedding = CohereEmbeddings(\n",
    "    cohere_api_key=cohere_api_key,\n",
    "    model=\"embed-english-v3.0\",\n",
    ")"
   ]
  },
  {
   "cell_type": "code",
   "execution_count": 66,
   "metadata": {},
   "outputs": [
    {
     "name": "stdout",
     "output_type": "stream",
     "text": [
      "0.4917399396072702\n"
     ]
    }
   ],
   "source": [
    "import numpy as np\n",
    "print(np.dot(embedding.embed_query(pages_char_split[1].page_content),\n",
    "             embedding.embed_query(pages_char_split[8].page_content)))"
   ]
  },
  {
   "cell_type": "code",
   "execution_count": 67,
   "metadata": {},
   "outputs": [],
   "source": [
    "from langchain_community.vectorstores import Chroma\n",
    "vectorstore = Chroma.from_documents(documents = pages_char_split,\n",
    "                                    embedding=embedding,\n",
    "                                    persist_directory='./365-ds-courses')"
   ]
  },
  {
   "cell_type": "code",
   "execution_count": 68,
   "metadata": {},
   "outputs": [],
   "source": [
    "retriever = vectorstore.as_retriever(search_type='mmr', search_kwargs={'k':3,'lambda_mult':0.7})"
   ]
  },
  {
   "cell_type": "code",
   "execution_count": 70,
   "metadata": {},
   "outputs": [
    {
     "name": "stderr",
     "output_type": "stream",
     "text": [
      "Number of requested results 20 is greater than number of elements in index 17, updating n_results = 17\n"
     ]
    },
    {
     "data": {
      "text/plain": [
       "[Document(metadata={'Course Title': 'Introduction to Data and Data Science', 'Lecture Title': 'Big Data Real-life Examples'}, page_content='We hope these examples clarify the use of big data in the real world.\\nCatch you later!'),\n",
       " Document(metadata={'Course Title': 'Introduction to Data and Data Science', 'Lecture Title': 'Big Data Real-life Examples'}, page_content='All right! So… Where do we find big data? The answer is in increasingly more industries and\\ncompanies. Here are a few notable examples.\\nAs one of the largest online communities, ‘Facebook’ keeps track of its user’s names, personal\\ndata, photos, videos, recorded messages and so on. This means their data has a lot of variety'),\n",
       " Document(metadata={'Course Title': 'Introduction to Data and Data Science', 'Lecture Title': 'Machine Learning (ML) Real-life Examples'}, page_content='On\\na larger scale, companies can use machine learning and past labelled data to automate the\\npractice. And with this they can know which customers may purchase goods from them. This\\nmeans the store can offer discounts and a ‘personal touch’ in an efficient way, minimizing\\nmarketing costs and maximizing profits')]"
      ]
     },
     "execution_count": 70,
     "metadata": {},
     "output_type": "execute_result"
    }
   ],
   "source": [
    "retriever.invoke(\"Could you give me some examples of big data used in real life\")"
   ]
  },
  {
   "cell_type": "code",
   "execution_count": 71,
   "metadata": {},
   "outputs": [],
   "source": [
    "TEMPLATE = '''\n",
    "You are a helpful Q&A chatbot at the 365 Data Science online educational platform. \n",
    "The platform offers video courses on data science topics. \n",
    "Your task is to provide students with exhaustive answers to their questions.\n",
    "\n",
    "To answer the question, use only the following context:\n",
    "{context}\n",
    "\n",
    "At the end of the response, specify the name of the lecture and the course this context is taken from in the format:\n",
    "Resources: \n",
    "1. Lecture \"Lecture Title\" from the \"Course Title\" course\n",
    "…\n",
    "where \"Lecture Title\" and \"Course Title\" should be substituted with the respective titles of all resource lectures.\n",
    "'''\n",
    "from langchain_core.prompts import ChatPromptTemplate, SystemMessagePromptTemplate,HumanMessagePromptTemplate\n",
    "message_template_1 = SystemMessagePromptTemplate.from_template(template=TEMPLATE)\n",
    "message_template_2 = HumanMessagePromptTemplate.from_template(template='''{question}''')\n",
    "chat_template = ChatPromptTemplate.from_messages([message_template_1,message_template_2])"
   ]
  },
  {
   "cell_type": "code",
   "execution_count": 84,
   "metadata": {},
   "outputs": [],
   "source": [
    "from langchain_core.output_parsers import StrOutputParser\n",
    "str_parser = StrOutputParser()\n"
   ]
  },
  {
   "cell_type": "code",
   "execution_count": null,
   "metadata": {},
   "outputs": [],
   "source": [
    "from langchain_core.runnables import RunnablePassthrough,RunnableParallel\n",
    "chain = (RunnableParallel({'context':retriever,\n",
    "         'question':RunnablePassthrough()})\n",
    "         | chat_template\n",
    "         | chat\n",
    "         | str_parser)\n",
    "\n",
    "'''\n",
    "'''"
   ]
  },
  {
   "cell_type": "code",
   "execution_count": 87,
   "metadata": {},
   "outputs": [
    {
     "name": "stderr",
     "output_type": "stream",
     "text": [
      "Number of requested results 20 is greater than number of elements in index 17, updating n_results = 17\n"
     ]
    }
   ],
   "source": [
    "response = chain.invoke(\"Could you give me some examples of big data used in real life\")"
   ]
  },
  {
   "cell_type": "code",
   "execution_count": 89,
   "metadata": {},
   "outputs": [
    {
     "name": "stdout",
     "output_type": "stream",
     "text": [
      "Sure! Here are some examples of how big data is utilized in real-life scenarios:\n",
      "\n",
      "- **Social Media Platforms:** One of the most well-known examples is Facebook. As a massive online community, Facebook collects and stores a vast array of user data, including names, personal information, photos, videos, and recorded messages. This diverse data set can be analyzed to understand user behavior, preferences, and trends, allowing Facebook to personalize its services and target advertisements.\n",
      "\n",
      "- **Retail and E-commerce:** Big data is extensively used in the retail industry to enhance customer experience and optimize operations. Companies can analyze historical data to identify customer patterns and preferences. By understanding customer behavior, retailers can predict which products are likely to be purchased by specific customers. This enables them to offer personalized discounts, recommendations, and targeted marketing campaigns, thus increasing sales and customer satisfaction while minimizing marketing costs.\n",
      "\n",
      "These examples demonstrate how big data analytics can provide valuable insights and drive decision-making processes in various sectors.\n",
      "\n",
      "Resources:\n",
      "1. Lecture \"Big Data Real-life Examples\" from the \"Introduction to Data and Data Science\" course\n",
      "2. Lecture \"Machine Learning (ML) Real-life Examples\" from the \"Introduction to Data and Data Science\" course\n"
     ]
    }
   ],
   "source": [
    "print(response)"
   ]
  },
  {
   "cell_type": "code",
   "execution_count": 91,
   "metadata": {},
   "outputs": [
    {
     "name": "stderr",
     "output_type": "stream",
     "text": [
      "Number of requested results 20 is greater than number of elements in index 17, updating n_results = 17\n"
     ]
    },
    {
     "name": "stdout",
     "output_type": "stream",
     "text": [
      "To ensure your Excel documents are easily printable, you can set a print area. This feature allows you to define a specific range of cells that will be included in the printout, making it more organized and concise. When you set a print area, Excel will display a border around the selected area, indicating what will be printed. By doing this, you can control the content and layout of your printed document. \n",
      "\n",
      "Here's a step-by-step guide on how to set a print area in Excel:\n",
      "\n",
      "1. Select the range of cells you want to include in the print area. You can do this by clicking and dragging your mouse over the desired cells.\n",
      "2. Go to the 'Page Layout' tab in the Excel ribbon.\n",
      "3. In the 'Page Setup' group, click on the 'Print Area' option and select 'Set Print Area' from the dropdown menu.\n",
      "4. Excel will now display a border around the selected print area.\n",
      "5. To print the document, go to the 'File' tab, click on 'Print', and then select your print settings and preferences.\n",
      "\n",
      "By following these steps, you can create well-organized and easily printable Excel documents, ensuring that only the relevant information is included in the printout. \n",
      "\n",
      "Resources:\n",
      "1. Lecture \"Create Easily Printable Excel Documents\" from the \"Introduction to Excel\" course\n"
     ]
    }
   ],
   "source": [
    "print(chain.invoke(\"How can we print documents in microsoft excel?\"))"
   ]
  }
 ],
 "metadata": {
  "kernelspec": {
   "display_name": "langchain_env",
   "language": "python",
   "name": "langchain_env"
  },
  "language_info": {
   "codemirror_mode": {
    "name": "ipython",
    "version": 3
   },
   "file_extension": ".py",
   "mimetype": "text/x-python",
   "name": "python",
   "nbconvert_exporter": "python",
   "pygments_lexer": "ipython3",
   "version": "3.10.10"
  }
 },
 "nbformat": 4,
 "nbformat_minor": 2
}
