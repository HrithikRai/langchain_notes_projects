{
 "cells": [
  {
   "cell_type": "code",
   "execution_count": 3,
   "metadata": {},
   "outputs": [],
   "source": [
    "%load_ext dotenv\n",
    "%dotenv"
   ]
  },
  {
   "cell_type": "code",
   "execution_count": 4,
   "metadata": {},
   "outputs": [],
   "source": [
    "import os\n",
    "cohere_api_key = os.getenv('COHERE_API_KEY')\n",
    "from langchain_cohere import ChatCohere\n",
    "from langchain_core.messages import HumanMessage\n",
    "from langchain_core.output_parsers import StrOutputParser\n",
    "chat = ChatCohere(cohere_api_key=cohere_api_key)"
   ]
  },
  {
   "cell_type": "code",
   "execution_count": 6,
   "metadata": {},
   "outputs": [],
   "source": [
    "message_h = HumanMessage(content='Give me something interesting')"
   ]
  },
  {
   "cell_type": "code",
   "execution_count": 7,
   "metadata": {},
   "outputs": [],
   "source": [
    "response = chat.invoke([message_h])"
   ]
  },
  {
   "cell_type": "code",
   "execution_count": 8,
   "metadata": {},
   "outputs": [
    {
     "data": {
      "text/plain": [
       "AIMessage(content=\"Here's an interesting fact: Did you know that the world's largest living structure is the Great Barrier Reef in Australia? It's so vast that it can even be seen from space! Stretching over 2,300 kilometers, it's home to an incredible diversity of marine life, including vibrant coral, countless species of fish, turtles, dolphins, and even the iconic and endangered sea cow, the dugong. The Great Barrier Reef is a UNESCO World Heritage Site and a popular destination for divers and marine enthusiasts from around the globe. Its beauty and ecological significance make it a truly fascinating and awe-inspiring natural wonder.\", additional_kwargs={'documents': None, 'citations': None, 'search_results': None, 'search_queries': None, 'is_search_required': None, 'generation_id': '366fe4bd-3aa0-46a8-8be6-b06f008f1f93', 'token_count': {'input_tokens': 210.0, 'output_tokens': 126.0}}, response_metadata={'documents': None, 'citations': None, 'search_results': None, 'search_queries': None, 'is_search_required': None, 'generation_id': '366fe4bd-3aa0-46a8-8be6-b06f008f1f93', 'token_count': {'input_tokens': 210.0, 'output_tokens': 126.0}}, id='run-24c1883e-1171-45b2-b39f-cb9df716d39c-0', usage_metadata={'input_tokens': 210, 'output_tokens': 126, 'total_tokens': 336})"
      ]
     },
     "execution_count": 8,
     "metadata": {},
     "output_type": "execute_result"
    }
   ],
   "source": [
    "response"
   ]
  },
  {
   "cell_type": "code",
   "execution_count": 9,
   "metadata": {},
   "outputs": [
    {
     "data": {
      "text/plain": [
       "\"Here's an interesting fact: Did you know that the world's largest living structure is the Great Barrier Reef in Australia? It's so vast that it can even be seen from space! Stretching over 2,300 kilometers, it's home to an incredible diversity of marine life, including vibrant coral, countless species of fish, turtles, dolphins, and even the iconic and endangered sea cow, the dugong. The Great Barrier Reef is a UNESCO World Heritage Site and a popular destination for divers and marine enthusiasts from around the globe. Its beauty and ecological significance make it a truly fascinating and awe-inspiring natural wonder.\""
      ]
     },
     "execution_count": 9,
     "metadata": {},
     "output_type": "execute_result"
    }
   ],
   "source": [
    "str_out = StrOutputParser()\n",
    "response_parsed = str_out.invoke(response)\n",
    "response_parsed"
   ]
  },
  {
   "cell_type": "code",
   "execution_count": 17,
   "metadata": {},
   "outputs": [],
   "source": [
    "# CSV parser\n",
    "from langchain_core.output_parsers import CommaSeparatedListOutputParser\n",
    "csl_out = CommaSeparatedListOutputParser()\n"
   ]
  },
  {
   "cell_type": "code",
   "execution_count": 20,
   "metadata": {},
   "outputs": [
    {
     "data": {
      "text/plain": [
       "['Here are some funny dog names:\\n\\nBowser',\n",
       " 'Rover',\n",
       " 'Fido',\n",
       " 'Rex',\n",
       " 'Ruffles',\n",
       " 'Puddles',\n",
       " 'Sniffles',\n",
       " 'Captain Fluff',\n",
       " 'Sir Barks-a-Lot',\n",
       " 'Paw Newton',\n",
       " 'Mr. Snuffles',\n",
       " 'Lady Woofington',\n",
       " 'Tail-or Swift',\n",
       " 'Pawdrey Hepburn',\n",
       " 'Chewbarka',\n",
       " 'Sir Licks-a-Lot',\n",
       " 'Hairy Pawter.']"
      ]
     },
     "execution_count": 20,
     "metadata": {},
     "output_type": "execute_result"
    }
   ],
   "source": [
    "message_h_2 = HumanMessage(content=f'''Suggest some funny asf dog names {csl_out.get_format_instructions()}''')\n",
    "res2 = chat.invoke([message_h_2])\n",
    "csl_out.invoke(res2)"
   ]
  },
  {
   "cell_type": "code",
   "execution_count": 15,
   "metadata": {},
   "outputs": [
    {
     "name": "stdout",
     "output_type": "stream",
     "text": [
      "Your response should be a list of comma separated values, eg: `foo, bar, baz` or `foo,bar,baz`\n"
     ]
    }
   ],
   "source": [
    "print(csl_out.get_format_instructions())"
   ]
  },
  {
   "cell_type": "code",
   "execution_count": 25,
   "metadata": {},
   "outputs": [],
   "source": [
    "# Date time output parser\n",
    "from langchain.output_parsers import DatetimeOutputParser\n",
    "dt_parser = DatetimeOutputParser()\n"
   ]
  },
  {
   "cell_type": "code",
   "execution_count": 26,
   "metadata": {},
   "outputs": [],
   "source": [
    "message_h_3 = HumanMessage(content=f\"When was mahatma gandhi born? {dt_parser.get_format_instructions()}\")\n",
    "response = chat.invoke([message_h_3])"
   ]
  },
  {
   "cell_type": "code",
   "execution_count": 27,
   "metadata": {},
   "outputs": [
    {
     "data": {
      "text/plain": [
       "'1869-10-02T00:00:00.000000Z'"
      ]
     },
     "execution_count": 27,
     "metadata": {},
     "output_type": "execute_result"
    }
   ],
   "source": [
    "response.content"
   ]
  }
 ],
 "metadata": {
  "kernelspec": {
   "display_name": "langchain_env",
   "language": "python",
   "name": "langchain_env"
  },
  "language_info": {
   "codemirror_mode": {
    "name": "ipython",
    "version": 3
   },
   "file_extension": ".py",
   "mimetype": "text/x-python",
   "name": "python",
   "nbconvert_exporter": "python",
   "pygments_lexer": "ipython3",
   "version": "3.10.10"
  }
 },
 "nbformat": 4,
 "nbformat_minor": 2
}
