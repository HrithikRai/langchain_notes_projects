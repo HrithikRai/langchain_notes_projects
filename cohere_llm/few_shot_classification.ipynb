{
 "cells": [
  {
   "cell_type": "code",
   "execution_count": 11,
   "metadata": {},
   "outputs": [],
   "source": [
    "import os\n",
    "import json\n",
    "import numpy as np\n",
    "import pandas as pd\n",
    "import cohere\n",
    "from cohere import ClassifyExample\n",
    "from sklearn.model_selection import train_test_split\n",
    "from sklearn.metrics import accuracy_score\n",
    "from sklearn.metrics import f1_score"
   ]
  },
  {
   "cell_type": "code",
   "execution_count": 2,
   "metadata": {},
   "outputs": [],
   "source": [
    "co = cohere.ClientV2(\"cZWxyHPX5B72hYVgeLK45bTrwiM05v8lQ5dHGIXS\")"
   ]
  },
  {
   "cell_type": "code",
   "execution_count": 3,
   "metadata": {},
   "outputs": [],
   "source": [
    "examples = [ClassifyExample(text=\"I’m so proud of you\", label=\"positive\"), \n",
    "            ClassifyExample(text=\"What a great time to be alive\", label=\"positive\"), \n",
    "            ClassifyExample(text=\"That’s awesome work\", label=\"positive\"), \n",
    "            ClassifyExample(text=\"The service was amazing\", label=\"positive\"), \n",
    "            ClassifyExample(text=\"I love my family\", label=\"positive\"), \n",
    "            ClassifyExample(text=\"They don't care about me\", label=\"negative\"), \n",
    "            ClassifyExample(text=\"I hate this place\", label=\"negative\"), \n",
    "            ClassifyExample(text=\"The most ridiculous thing I've ever heard\", label=\"negative\"), \n",
    "            ClassifyExample(text=\"I am really frustrated\", label=\"negative\"), \n",
    "            ClassifyExample(text=\"This is so unfair\", label=\"negative\"),\n",
    "            ClassifyExample(text=\"This made me think\", label=\"neutral\"), \n",
    "            ClassifyExample(text=\"The good old days\", label=\"neutral\"), \n",
    "            ClassifyExample(text=\"What's the difference\", label=\"neutral\"), \n",
    "            ClassifyExample(text=\"You can't ignore this\", label=\"neutral\"), \n",
    "            ClassifyExample(text=\"That's how I see it\", label=\"neutral\")]"
   ]
  },
  {
   "cell_type": "code",
   "execution_count": 4,
   "metadata": {},
   "outputs": [],
   "source": [
    "inputs = [\"Hello, world! What a beautiful day\",\n",
    "          \"It was a great time with great people\",\n",
    "          \"Great place to work\",\n",
    "          \"That was a wonderful evening\",\n",
    "          \"Maybe this is why\",\n",
    "          \"Let's start again\",\n",
    "          \"That's how I see it\",\n",
    "          \"These are all facts\",\n",
    "          \"This is the worst thing\",\n",
    "          \"I cannot stand this any longer\",\n",
    "          \"This is really annoying\",\n",
    "          \"I am just plain fed up\"]"
   ]
  },
  {
   "cell_type": "code",
   "execution_count": 5,
   "metadata": {},
   "outputs": [],
   "source": [
    "def classify_text(inputs, examples):\n",
    "    \"\"\"\n",
    "    Classifies a list of input texts given the examples\n",
    "    Arguments:\n",
    "        model (str): identifier of the model\n",
    "        inputs (list[str]): a list of input texts to be classified\n",
    "        examples (list[Example]): a list of example texts and class labels\n",
    "    Returns:\n",
    "        classifications (list): each result contains the text, labels, and conf values\n",
    "    \"\"\"\n",
    "    # Classify text by calling the Classify endpoint\n",
    "    response = co.classify(\n",
    "        model='embed-english-v3.0',\n",
    "        inputs=inputs,\n",
    "        examples=examples)\n",
    "\n",
    "    classifications = response.classifications\n",
    "\n",
    "    return classifications\n",
    "\n",
    "# Classify the inputs\n",
    "predictions = classify_text(inputs, examples)"
   ]
  },
  {
   "cell_type": "code",
   "execution_count": 8,
   "metadata": {},
   "outputs": [
    {
     "data": {
      "text/plain": [
       "[ClassifyResponseClassificationsItem(id='79c72411-d52a-43b2-b823-8f7539d11081', input='hello, world! what a beautiful day', prediction='positive', predictions=['positive'], confidence=0.40137812, confidences=[0.40137812], labels={'negative': ClassifyResponseClassificationsItemLabelsValue(confidence=0.23582731), 'neutral': ClassifyResponseClassificationsItemLabelsValue(confidence=0.36279458), 'positive': ClassifyResponseClassificationsItemLabelsValue(confidence=0.40137812)}, classification_type='single-label'),\n",
       " ClassifyResponseClassificationsItem(id='a699b539-f8d9-40bf-859b-3f3fbb3a1d8c', input='it was a great time with great people', prediction='positive', predictions=['positive'], confidence=0.49054274, confidences=[0.49054274], labels={'negative': ClassifyResponseClassificationsItemLabelsValue(confidence=0.19989403), 'neutral': ClassifyResponseClassificationsItemLabelsValue(confidence=0.30956325), 'positive': ClassifyResponseClassificationsItemLabelsValue(confidence=0.49054274)}, classification_type='single-label'),\n",
       " ClassifyResponseClassificationsItem(id='b7a9b77e-8b2a-46b0-9551-36b297721112', input='great place to work', prediction='positive', predictions=['positive'], confidence=0.50350463, confidences=[0.50350463], labels={'negative': ClassifyResponseClassificationsItemLabelsValue(confidence=0.20278707), 'neutral': ClassifyResponseClassificationsItemLabelsValue(confidence=0.2937083), 'positive': ClassifyResponseClassificationsItemLabelsValue(confidence=0.50350463)}, classification_type='single-label'),\n",
       " ClassifyResponseClassificationsItem(id='1b67d3df-b17f-4c2c-9590-8f65b48deb8a', input='that was a wonderful evening', prediction='positive', predictions=['positive'], confidence=0.48206237, confidences=[0.48206237], labels={'negative': ClassifyResponseClassificationsItemLabelsValue(confidence=0.20577134), 'neutral': ClassifyResponseClassificationsItemLabelsValue(confidence=0.3121663), 'positive': ClassifyResponseClassificationsItemLabelsValue(confidence=0.48206237)}, classification_type='single-label'),\n",
       " ClassifyResponseClassificationsItem(id='aef34f3e-bd11-4029-9f6a-91fbe4e21b95', input='maybe this is why', prediction='neutral', predictions=['neutral'], confidence=0.45420286, confidences=[0.45420286], labels={'negative': ClassifyResponseClassificationsItemLabelsValue(confidence=0.27324715), 'neutral': ClassifyResponseClassificationsItemLabelsValue(confidence=0.45420286), 'positive': ClassifyResponseClassificationsItemLabelsValue(confidence=0.27255)}, classification_type='single-label'),\n",
       " ClassifyResponseClassificationsItem(id='bb8d00fc-5517-4a28-8922-13bcd7f28726', input=\"let ' s start again\", prediction='neutral', predictions=['neutral'], confidence=0.41799143, confidences=[0.41799143], labels={'negative': ClassifyResponseClassificationsItemLabelsValue(confidence=0.3016419), 'neutral': ClassifyResponseClassificationsItemLabelsValue(confidence=0.41799143), 'positive': ClassifyResponseClassificationsItemLabelsValue(confidence=0.2803667)}, classification_type='single-label'),\n",
       " ClassifyResponseClassificationsItem(id='0ab70f0c-8eab-43e8-9360-38accd04edac', input=\"that ' s how i see it\", prediction='neutral', predictions=['neutral'], confidence=0.5275604, confidences=[0.5275604], labels={'negative': ClassifyResponseClassificationsItemLabelsValue(confidence=0.22438787), 'neutral': ClassifyResponseClassificationsItemLabelsValue(confidence=0.5275604), 'positive': ClassifyResponseClassificationsItemLabelsValue(confidence=0.24805175)}, classification_type='single-label'),\n",
       " ClassifyResponseClassificationsItem(id='e1d09bdd-6ade-4bc9-a911-23d28db8ba6f', input='these are all facts', prediction='neutral', predictions=['neutral'], confidence=0.41150308, confidences=[0.41150308], labels={'negative': ClassifyResponseClassificationsItemLabelsValue(confidence=0.26112357), 'neutral': ClassifyResponseClassificationsItemLabelsValue(confidence=0.41150308), 'positive': ClassifyResponseClassificationsItemLabelsValue(confidence=0.3273734)}, classification_type='single-label'),\n",
       " ClassifyResponseClassificationsItem(id='5a85084c-14c0-4aba-928e-b47d95697f4d', input='this is the worst thing', prediction='negative', predictions=['negative'], confidence=0.5155172, confidences=[0.5155172], labels={'negative': ClassifyResponseClassificationsItemLabelsValue(confidence=0.5155172), 'neutral': ClassifyResponseClassificationsItemLabelsValue(confidence=0.286145), 'positive': ClassifyResponseClassificationsItemLabelsValue(confidence=0.19833784)}, classification_type='single-label'),\n",
       " ClassifyResponseClassificationsItem(id='5dd4c63f-c5ac-419e-b64b-2e3b12f2c892', input='i cannot stand this any longer', prediction='negative', predictions=['negative'], confidence=0.51797503, confidences=[0.51797503], labels={'negative': ClassifyResponseClassificationsItemLabelsValue(confidence=0.51797503), 'neutral': ClassifyResponseClassificationsItemLabelsValue(confidence=0.27672228), 'positive': ClassifyResponseClassificationsItemLabelsValue(confidence=0.20530267)}, classification_type='single-label'),\n",
       " ClassifyResponseClassificationsItem(id='f7284f10-761c-4e29-a2d9-9fbff09f885e', input='this is really annoying', prediction='negative', predictions=['negative'], confidence=0.5610805, confidences=[0.5610805], labels={'negative': ClassifyResponseClassificationsItemLabelsValue(confidence=0.5610805), 'neutral': ClassifyResponseClassificationsItemLabelsValue(confidence=0.24550894), 'positive': ClassifyResponseClassificationsItemLabelsValue(confidence=0.19341055)}, classification_type='single-label'),\n",
       " ClassifyResponseClassificationsItem(id='60bf45b8-61b8-4e46-86bc-5b7877fede46', input='i am just plain fed up', prediction='negative', predictions=['negative'], confidence=0.5657494, confidences=[0.5657494], labels={'negative': ClassifyResponseClassificationsItemLabelsValue(confidence=0.5657494), 'neutral': ClassifyResponseClassificationsItemLabelsValue(confidence=0.24983846), 'positive': ClassifyResponseClassificationsItemLabelsValue(confidence=0.18441212)}, classification_type='single-label')]"
      ]
     },
     "execution_count": 8,
     "metadata": {},
     "output_type": "execute_result"
    }
   ],
   "source": [
    "predictions"
   ]
  },
  {
   "cell_type": "code",
   "execution_count": 10,
   "metadata": {},
   "outputs": [
    {
     "name": "stdout",
     "output_type": "stream",
     "text": [
      "hello, world! what a beautiful day\n",
      "positive\n",
      "0.40137812\n",
      "--------\n",
      "it was a great time with great people\n",
      "positive\n",
      "0.49054274\n",
      "--------\n",
      "great place to work\n",
      "positive\n",
      "0.50350463\n",
      "--------\n",
      "that was a wonderful evening\n",
      "positive\n",
      "0.48206237\n",
      "--------\n",
      "maybe this is why\n",
      "neutral\n",
      "0.45420286\n",
      "--------\n",
      "let ' s start again\n",
      "neutral\n",
      "0.41799143\n",
      "--------\n",
      "that ' s how i see it\n",
      "neutral\n",
      "0.5275604\n",
      "--------\n",
      "these are all facts\n",
      "neutral\n",
      "0.41150308\n",
      "--------\n",
      "this is the worst thing\n",
      "negative\n",
      "0.5155172\n",
      "--------\n",
      "i cannot stand this any longer\n",
      "negative\n",
      "0.51797503\n",
      "--------\n",
      "this is really annoying\n",
      "negative\n",
      "0.5610805\n",
      "--------\n",
      "i am just plain fed up\n",
      "negative\n",
      "0.5657494\n",
      "--------\n"
     ]
    }
   ],
   "source": [
    "for i in predictions:\n",
    "    print(i.input)\n",
    "    print(i.prediction)\n",
    "    print(i.confidence)\n",
    "    print(\"--------\")"
   ]
  },
  {
   "cell_type": "markdown",
   "metadata": {},
   "source": [
    "### Fine tuning the classification model using a custom dataset"
   ]
  },
  {
   "cell_type": "code",
   "execution_count": 12,
   "metadata": {},
   "outputs": [],
   "source": [
    "# Load the dataset to a dataframe\n",
    "df = pd.read_csv('https://raw.githubusercontent.com/cohere-ai/notebooks/main/notebooks/data/atis_subset.csv', names=['query','intent'])"
   ]
  },
  {
   "cell_type": "code",
   "execution_count": 13,
   "metadata": {},
   "outputs": [
    {
     "data": {
      "text/html": [
       "<div>\n",
       "<style scoped>\n",
       "    .dataframe tbody tr th:only-of-type {\n",
       "        vertical-align: middle;\n",
       "    }\n",
       "\n",
       "    .dataframe tbody tr th {\n",
       "        vertical-align: top;\n",
       "    }\n",
       "\n",
       "    .dataframe thead th {\n",
       "        text-align: right;\n",
       "    }\n",
       "</style>\n",
       "<table border=\"1\" class=\"dataframe\">\n",
       "  <thead>\n",
       "    <tr style=\"text-align: right;\">\n",
       "      <th></th>\n",
       "      <th>query</th>\n",
       "      <th>intent</th>\n",
       "    </tr>\n",
       "  </thead>\n",
       "  <tbody>\n",
       "    <tr>\n",
       "      <th>0</th>\n",
       "      <td>i want to fly from boston at 838 am and arriv...</td>\n",
       "      <td>atis_flight</td>\n",
       "    </tr>\n",
       "    <tr>\n",
       "      <th>1</th>\n",
       "      <td>what flights are available from pittsburgh to...</td>\n",
       "      <td>atis_flight</td>\n",
       "    </tr>\n",
       "    <tr>\n",
       "      <th>2</th>\n",
       "      <td>what is the arrival time in san francisco for...</td>\n",
       "      <td>atis_flight_time</td>\n",
       "    </tr>\n",
       "    <tr>\n",
       "      <th>3</th>\n",
       "      <td>cheapest airfare from tacoma to orlando</td>\n",
       "      <td>atis_airfare</td>\n",
       "    </tr>\n",
       "    <tr>\n",
       "      <th>4</th>\n",
       "      <td>round trip fares from pittsburgh to philadelp...</td>\n",
       "      <td>atis_airfare</td>\n",
       "    </tr>\n",
       "    <tr>\n",
       "      <th>...</th>\n",
       "      <td>...</td>\n",
       "      <td>...</td>\n",
       "    </tr>\n",
       "    <tr>\n",
       "      <th>995</th>\n",
       "      <td>flights from baltimore to dallas</td>\n",
       "      <td>atis_flight</td>\n",
       "    </tr>\n",
       "    <tr>\n",
       "      <th>996</th>\n",
       "      <td>what do you have tomorrow morning from pittsb...</td>\n",
       "      <td>atis_flight</td>\n",
       "    </tr>\n",
       "    <tr>\n",
       "      <th>997</th>\n",
       "      <td>i would like some information on the earliest...</td>\n",
       "      <td>atis_flight</td>\n",
       "    </tr>\n",
       "    <tr>\n",
       "      <th>998</th>\n",
       "      <td>what flights are there from cleveland to miam...</td>\n",
       "      <td>atis_flight</td>\n",
       "    </tr>\n",
       "    <tr>\n",
       "      <th>999</th>\n",
       "      <td>i need information on flights leaving philade...</td>\n",
       "      <td>atis_flight</td>\n",
       "    </tr>\n",
       "  </tbody>\n",
       "</table>\n",
       "<p>1000 rows × 2 columns</p>\n",
       "</div>"
      ],
      "text/plain": [
       "                                                 query            intent\n",
       "0     i want to fly from boston at 838 am and arriv...       atis_flight\n",
       "1     what flights are available from pittsburgh to...       atis_flight\n",
       "2     what is the arrival time in san francisco for...  atis_flight_time\n",
       "3              cheapest airfare from tacoma to orlando      atis_airfare\n",
       "4     round trip fares from pittsburgh to philadelp...      atis_airfare\n",
       "..                                                 ...               ...\n",
       "995                   flights from baltimore to dallas       atis_flight\n",
       "996   what do you have tomorrow morning from pittsb...       atis_flight\n",
       "997   i would like some information on the earliest...       atis_flight\n",
       "998   what flights are there from cleveland to miam...       atis_flight\n",
       "999   i need information on flights leaving philade...       atis_flight\n",
       "\n",
       "[1000 rows x 2 columns]"
      ]
     },
     "execution_count": 13,
     "metadata": {},
     "output_type": "execute_result"
    }
   ],
   "source": [
    "df"
   ]
  },
  {
   "cell_type": "code",
   "execution_count": 15,
   "metadata": {},
   "outputs": [],
   "source": [
    "# Split the dataset into training and test portions\n",
    "df_train, df_test = train_test_split(df, test_size=200, random_state=21)"
   ]
  },
  {
   "cell_type": "code",
   "execution_count": 17,
   "metadata": {},
   "outputs": [
    {
     "name": "stdout",
     "output_type": "stream",
     "text": [
      "Creating jsonl file ...\n",
      "Done\n"
     ]
    }
   ],
   "source": [
    "def create_classification_data(text, label):\n",
    "    formatted_data = {\n",
    "        \"text\": text,\n",
    "        \"label\": label\n",
    "    }\n",
    "    return formatted_data\n",
    "\n",
    "if not os.path.isfile(\"data.jsonl\"):\n",
    "    print(\"Creating jsonl file ...\")\n",
    "    with open(\"data.jsonl\", 'w+') as file:\n",
    "        for row in df_train.itertuples():\n",
    "            formatted_data = create_classification_data(row.query, row.intent)\n",
    "            file.write(json.dumps(formatted_data) + '\\n')\n",
    "        file.close()\n",
    "        print(\"Done\")\n",
    "else:\n",
    "    print(\"data.jsonl file already exists\")\n"
   ]
  },
  {
   "cell_type": "markdown",
   "metadata": {},
   "source": [
    "#### navigate to cohere dashboard and upload jsonl data to fine tune a classifier model - https://dashboard.cohere.com/fine-tuning"
   ]
  },
  {
   "cell_type": "code",
   "execution_count": null,
   "metadata": {},
   "outputs": [],
   "source": [
    "# Generate classification predictions on the test dataset using the finetuned model\n",
    "\n",
    "# Classification function\n",
    "def classify_text_finetune(texts):\n",
    "    classifications = co.classify(\n",
    "        model='b2c94ac3-7a74-4de7-a11a-9808a3b8ef59-ft',\n",
    "        inputs=texts,\n",
    "        examples=None\n",
    "    ).classifications\n",
    "    return [c.predictions[0] for c in classifications]\n",
    "\n",
    "# Create batches of texts and classify them\n",
    "BATCH_SIZE = 90 # The API accepts a maximum of 96 inputs\n",
    "y_pred = []\n",
    "for i in range(0, len(df_test), BATCH_SIZE):\n",
    "    batch_texts = df_test[\"query\"][i:i+BATCH_SIZE].tolist()\n",
    "    y_pred.extend(classify_text_finetune(batch_texts))"
   ]
  },
  {
   "cell_type": "code",
   "execution_count": null,
   "metadata": {},
   "outputs": [],
   "source": [
    "# Compute metrics on the test dataset\n",
    "accuracy = accuracy_score(df_test[\"intent\"], y_pred)\n",
    "f1 = f1_score(df_test[\"intent\"], y_pred, average='weighted')\n",
    "\n",
    "print(f'Accuracy: {100*accuracy:.2f}')\n",
    "print(f'F1-score: {100*f1:.2f}')\n"
   ]
  }
 ],
 "metadata": {
  "kernelspec": {
   "display_name": "gpu_ml",
   "language": "python",
   "name": "python3"
  },
  "language_info": {
   "codemirror_mode": {
    "name": "ipython",
    "version": 3
   },
   "file_extension": ".py",
   "mimetype": "text/x-python",
   "name": "python",
   "nbconvert_exporter": "python",
   "pygments_lexer": "ipython3",
   "version": "3.10.15"
  }
 },
 "nbformat": 4,
 "nbformat_minor": 2
}
