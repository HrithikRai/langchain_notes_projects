{
 "cells": [
  {
   "cell_type": "code",
   "execution_count": null,
   "metadata": {},
   "outputs": [],
   "source": [
    "import cohere\n",
    "co = cohere.ClientV2(\"your_api_key\")"
   ]
  },
  {
   "cell_type": "code",
   "execution_count": 3,
   "metadata": {},
   "outputs": [
    {
     "name": "stdout",
     "output_type": "stream",
     "text": [
      "Love's embrace, forever in harmony.\n"
     ]
    }
   ],
   "source": [
    "# Add the user message\n",
    "message = \"Hello, come up with something romantic in 5 words\"\n",
    "\n",
    "# Generate the response\n",
    "response = co.chat(model=\"command-r-plus-08-2024\",\n",
    "                   messages=[{'role':'user', 'content': message}],\n",
    "                   temperature=0)\n",
    "\n",
    "print(response.message.content[0].text)"
   ]
  },
  {
   "cell_type": "code",
   "execution_count": 4,
   "metadata": {},
   "outputs": [
    {
     "name": "stdout",
     "output_type": "stream",
     "text": [
      "1: Love's embrace, forever in harmony.\n",
      "\n",
      "2: Love's embrace, forever in harmony.\n",
      "\n",
      "3: Love's embrace, forever in harmony.\n",
      "\n"
     ]
    }
   ],
   "source": [
    "for idx in range(3):\n",
    "    response = co.chat(model=\"command-r-plus-08-2024\",\n",
    "                       messages=[{'role':'user', 'content': message}],\n",
    "                       temperature=0)\n",
    "\n",
    "    print(f\"{idx+1}: {response.message.content[0].text}\\n\")"
   ]
  },
  {
   "cell_type": "code",
   "execution_count": 5,
   "metadata": {},
   "outputs": [
    {
     "name": "stdout",
     "output_type": "stream",
     "text": [
      "1: Here's a five-word romantic sentence:\n",
      "\n",
      "Your love inspires my endless devotion.\n",
      "\n",
      "2: \"Forever yours, my love's sweet bliss.\"\n",
      "\n",
      "3: Stargazing, holding hands, forever together.\n",
      "\n"
     ]
    }
   ],
   "source": [
    "# Generate the response multiple times by specifying a high temperature value\n",
    "for idx in range(3):\n",
    "    response = co.chat(model=\"command-r-plus-08-2024\",\n",
    "                       messages=[{'role':'user', 'content': message}],\n",
    "                       temperature=1)\n",
    "\n",
    "    print(f\"{idx+1}: {response.message.content[0].text}\\n\")"
   ]
  }
 ],
 "metadata": {
  "kernelspec": {
   "display_name": "gpu_ml",
   "language": "python",
   "name": "python3"
  },
  "language_info": {
   "codemirror_mode": {
    "name": "ipython",
    "version": 3
   },
   "file_extension": ".py",
   "mimetype": "text/x-python",
   "name": "python",
   "nbconvert_exporter": "python",
   "pygments_lexer": "ipython3",
   "version": "3.10.15"
  }
 },
 "nbformat": 4,
 "nbformat_minor": 2
}
