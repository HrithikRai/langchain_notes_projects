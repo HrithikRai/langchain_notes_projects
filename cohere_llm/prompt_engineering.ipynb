{
 "cells": [
  {
   "cell_type": "code",
   "execution_count": null,
   "metadata": {},
   "outputs": [],
   "source": [
    "import cohere\n",
    "co = cohere.ClientV2(\"api_key\")"
   ]
  },
  {
   "cell_type": "code",
   "execution_count": 2,
   "metadata": {},
   "outputs": [],
   "source": [
    "def generate_text(message):\n",
    "    # Generate the response by streaming it\n",
    "    response = co.chat_stream(model=\"command-r-plus-08-2024\",\n",
    "                   messages=[{'role':'user', 'content': message}])\n",
    "\n",
    "    for event in response:\n",
    "        if event.type == \"content-delta\":\n",
    "            print(event.delta.message.content.text, end=\"\")"
   ]
  },
  {
   "cell_type": "code",
   "execution_count": 3,
   "metadata": {},
   "outputs": [
    {
     "name": "stdout",
     "output_type": "stream",
     "text": [
      "\"Experience ultimate audio freedom with our sleek wireless earbuds. Immerse yourself in crystal-clear sound with powerful bass and noise-canceling technology. These lightweight earbuds offer a secure fit, long-lasting battery life, and seamless connectivity for an uninterrupted listening experience. Control your music and calls effortlessly with intuitive touch controls. The perfect companion for your active lifestyle!\""
     ]
    }
   ],
   "source": [
    "# keep it imeprative\n",
    "generate_text(\"Generate a concise product description for the product: wireless earbuds.\")\n"
   ]
  },
  {
   "cell_type": "code",
   "execution_count": 4,
   "metadata": {},
   "outputs": [
    {
     "name": "stdout",
     "output_type": "stream",
     "text": [
      "**Hook:**\n",
      "Unleash your listening experience with true wireless freedom!\n",
      "\n",
      "**Solution:**\n",
      "Introducing the latest wireless earbuds, designed to elevate your audio journey.\n",
      "\n",
      "**Features and Benefits:**\n",
      "- **Immersive Sound:** Experience crystal-clear audio with deep bass and precise treble, ensuring every note is heard with remarkable clarity.\n",
      "- **Seamless Connectivity:** Connect effortlessly to your devices via Bluetooth 5.0, offering a stable and uninterrupted connection for an immersive listening session.\n",
      "- **Comfortable Fit:** The ergonomic design ensures a snug and secure fit, allowing you to wear them comfortably for extended periods. Enjoy all-day wear without any discomfort!\n",
      "- **Long-lasting Battery:** Say goodbye to frequent charging! These earbuds provide up to 8 hours of playtime on a single charge, with the charging case offering an additional 32 hours of power.\n",
      "- **Quick Charge:** In a rush? A 10-minute quick charge gives you an extra hour of playback.\n",
      "\n",
      "**Call to Action:**\n",
      "Elevate your audio experience and enjoy the freedom of wireless listening. Get yours now and immerse yourself in a world of high-quality sound!"
     ]
    }
   ],
   "source": [
    "generate_text(\"\"\"\n",
    "    Generate a concise product description for the product: wireless earbuds.\n",
    "    Use the following format: Hook, Solution, Features and Benefits, Call to Action.\n",
    "    \"\"\")"
   ]
  },
  {
   "cell_type": "code",
   "execution_count": 5,
   "metadata": {},
   "outputs": [
    {
     "name": "stdout",
     "output_type": "stream",
     "text": [
      "The email expresses gratitude to the team for their successful collaboration in organizing a community meetup, highlighting their hard work, dedication, and valuable contributions."
     ]
    }
   ],
   "source": [
    "# instruction + context\n",
    "generate_text(\"\"\"\n",
    "    Summarize this email in one sentence.\n",
    "    Dear [Team Members],\n",
    "    I am writing to thank you for your hard work and dedication in organizing our recent community meetup. The event was a great success and it would not have been possible without your efforts.\n",
    "    I am especially grateful for the time and energy you have invested in making this event a reality. Your commitment to ensuring that everything ran smoothly and that our guests had a great time is greatly appreciated.\n",
    "    I am also thankful for the support and guidance you have provided to me throughout the planning process. Your insights and ideas have been invaluable in ensuring that the event was a success.\n",
    "    I am confident that our community will benefit greatly from this event and I am excited to see the positive impact it will have.\n",
    "    Thank you again for your hard work and dedication. I am looking forward to working with you on future events.\n",
    "    Sincerely,\n",
    "    [Your Name]\n",
    "    \"\"\")"
   ]
  },
  {
   "cell_type": "code",
   "execution_count": 6,
   "metadata": {},
   "outputs": [
    {
     "name": "stdout",
     "output_type": "stream",
     "text": [
      "The movie title is 'Deadpool 2'."
     ]
    }
   ],
   "source": [
    "generate_text(\"\"\"\n",
    "    Extract the movie title from the text below.\n",
    "    Deadpool 2 | Official HD Deadpool's \"Wet on Wet\" Teaser | 2018\n",
    "    \"\"\")\n"
   ]
  },
  {
   "cell_type": "code",
   "execution_count": 7,
   "metadata": {},
   "outputs": [
    {
     "name": "stdout",
     "output_type": "stream",
     "text": [
      "Here is a list of potential FAQs based on the provided text:\n",
      "\n",
      "**Q: What is the Cohere Platform?**\n",
      "A: The Cohere Platform is an API-based service that enables developers and organizations to utilize advanced Language Models (LLMs) without requiring expertise in machine learning. It simplifies the process of integrating cutting-edge language processing capabilities into various applications.\n",
      "\n",
      "**Q: Who is the Cohere Platform designed for?**\n",
      "A: The platform is primarily designed for developers and organizations who want to incorporate language processing capabilities into their applications but may not have the resources or expertise to develop and train their own language models.\n",
      "\n",
      "**What language processing capabilities does the Cohere Platform offer?**\n",
      "- Text Generation: This capability allows users to input a prompt and receive a generated text completion. It can be used for creative writing, content generation, and more.\n",
      "- Text Embedding: Text embedding transforms text data into numerical representations (embeddings) that capture the semantic meaning of the text. This is useful for tasks like sentiment analysis, similarity search, and understanding the underlying context of text data.\n",
      "\n",
      "**Q: How does text generation work?**\n",
      "A: Text generation models take a prompt as input and generate a completion. For example, if you prompt the model with a haiku-related instruction, it will output an original haiku. These models can be used for various creative and content generation tasks.\n",
      "\n",
      "**Q: What are the benefits of using text embedding?**\n",
      "A: Text embedding is powerful for tasks that require understanding and analyzing the meaning of text. By converting text into numerical embeddings, you can measure similarity, perform sentiment analysis, or build systems that can categorize and organize text data based on its semantic content.\n",
      "\n",
      "**Q: Does the Cohere Platform require machine learning expertise?**\n",
      "A: No, the platform is designed to abstract away the complexities of machine learning. Developers can utilize the API to access pre-trained models, eliminating the need for extensive knowledge in model training, data curation, and distributed computing.\n",
      "\n",
      "**Q: What are some use cases for the Cohere Platform's capabilities?**\n",
      "A: The text generation capability can be used for automated content creation, chatbots, and personalized recommendations. Text embedding can power advanced search systems, sentiment analysis for customer feedback, and data categorization for efficient information retrieval.\n",
      "\n",
      "**Q: How can developers get started with the Cohere Platform?**\n",
      "A: Developers can sign up for an account on the Cohere Platform and access the API documentation to integrate the language processing capabilities into their applications. The platform provides resources and support to help developers get started quickly and efficiently."
     ]
    }
   ],
   "source": [
    "generate_text(\"\"\"\n",
    "    Given the following text, write down a list of potential frequently asked questions (FAQ), together with the answers.\n",
    "    The Cohere Platform provides an API for developers and organizations to access cutting-edge LLMs without needing machine learning know-how.\n",
    "    The platform handles all the complexities of curating massive amounts of text data, model development, distributed training, model serving, and more.\n",
    "    This means that developers can focus on creating value on the applied side rather than spending time and effort on the capability-building side.\n",
    "\n",
    "    There are two key types of language processing capabilities that the Cohere Platform provides — text generation and text embedding — and each is served by a different type of model.\n",
    "\n",
    "    With text generation, we enter a piece of text, or prompt, and get back a stream of text as a completion to the prompt.\n",
    "    One example is asking the model to write a haiku (the prompt) and getting an originally written haiku in return (the completion).\n",
    "\n",
    "    With text embedding, we enter a piece of text and get back a list of numbers that represents its semantic meaning (we’ll see what “semantic” means in a section below).\n",
    "    This is useful for use cases that involve “measuring” what a passage of text represents, for example, in analyzing its sentiment.\n",
    "    \"\"\")"
   ]
  }
 ],
 "metadata": {
  "kernelspec": {
   "display_name": "gpu_ml",
   "language": "python",
   "name": "python3"
  },
  "language_info": {
   "codemirror_mode": {
    "name": "ipython",
    "version": 3
   },
   "file_extension": ".py",
   "mimetype": "text/x-python",
   "name": "python",
   "nbconvert_exporter": "python",
   "pygments_lexer": "ipython3",
   "version": "3.10.15"
  }
 },
 "nbformat": 4,
 "nbformat_minor": 2
}
