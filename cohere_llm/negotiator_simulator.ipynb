{
 "cells": [
  {
   "cell_type": "code",
   "execution_count": null,
   "metadata": {},
   "outputs": [],
   "source": [
    "import cohere\n",
    "co = cohere.ClientV2(\"api_key\")"
   ]
  },
  {
   "cell_type": "code",
   "execution_count": 2,
   "metadata": {},
   "outputs": [],
   "source": [
    "import streamlit as st\n",
    "import json"
   ]
  },
  {
   "cell_type": "code",
   "execution_count": 3,
   "metadata": {},
   "outputs": [],
   "source": [
    "# This function creates negotiation scenarios tailored to specific industries or situations.\n",
    "def generate_negotiation_scenario(industry, difficulty):\n",
    "    prompt = f\"\"\"\n",
    "    Generate a {difficulty} negotiation scenario based on the industry. Include details about the situation, the interests of both parties, and the desired outcome.\n",
    "\n",
    "    Industry: {industry}\n",
    "    Scenario:\"\"\"\n",
    "    \n",
    "    response = co.chat(\n",
    "        messages=[{\"role\": \"user\", \"content\": prompt}],\n",
    "        model=\"command-r-plus-08-2024\",\n",
    "        temperature=0.6\n",
    "    )\n",
    "    return response.message.content"
   ]
  },
  {
   "cell_type": "code",
   "execution_count": 4,
   "metadata": {},
   "outputs": [],
   "source": [
    "# This function evaluates the user’s response for tone, content, and negotiating skills.\n",
    "\n",
    "def analyze_response(user_response):\n",
    "    prompt = f\"\"\"\n",
    "    Analyze the following negotiation response and provide feedback on tone, clarity, and effectiveness. Suggest improvements.\n",
    "\n",
    "    Response: {user_response}\n",
    "    Analysis:\"\"\"\n",
    "    \n",
    "    response = co.chat(\n",
    "        messages=[{\"role\": \"user\", \"content\": prompt}],\n",
    "        model=\"command-r-plus-08-2024\",\n",
    "        temperature=0.5\n",
    "    )\n",
    "    return response.message.content\n"
   ]
  },
  {
   "cell_type": "code",
   "execution_count": 5,
   "metadata": {},
   "outputs": [],
   "source": [
    "# Provides personalized feedback, suggesting ways to improve based on real-time analysis.\n",
    "\n",
    "def generate_feedback(scenario, user_response):\n",
    "    prompt = f\"\"\"\n",
    "    Given the following negotiation scenario and user response, provide constructive feedback. Rate the user's tone, clarity, and negotiation tactics.\n",
    "\n",
    "    Scenario: {scenario}\n",
    "    User Response: {user_response}\n",
    "    Feedback:\"\"\"\n",
    "    \n",
    "    response = co.chat(\n",
    "        messages=[{\"role\": \"user\", \"content\": prompt}],\n",
    "        model=\"command-r-plus-08-2024\",\n",
    "        temperature=0.4\n",
    "    )\n",
    "    return response.message.content\n"
   ]
  },
  {
   "cell_type": "code",
   "execution_count": 6,
   "metadata": {},
   "outputs": [
    {
     "name": "stderr",
     "output_type": "stream",
     "text": [
      "2024-10-28 21:57:45.345 WARNING streamlit.runtime.scriptrunner_utils.script_run_context: Thread 'MainThread': missing ScriptRunContext! This warning can be ignored when running in bare mode.\n",
      "2024-10-28 21:57:46.008 \n",
      "  \u001b[33m\u001b[1mWarning:\u001b[0m to view this Streamlit app on a browser, run it with the following\n",
      "  command:\n",
      "\n",
      "    streamlit run f:\\Users\\MSI\\miniconda3\\envs\\gpu_ml\\lib\\site-packages\\ipykernel_launcher.py [ARGUMENTS]\n",
      "2024-10-28 21:57:46.011 Thread 'MainThread': missing ScriptRunContext! This warning can be ignored when running in bare mode.\n",
      "2024-10-28 21:57:46.014 Thread 'MainThread': missing ScriptRunContext! This warning can be ignored when running in bare mode.\n",
      "2024-10-28 21:57:46.016 Thread 'MainThread': missing ScriptRunContext! This warning can be ignored when running in bare mode.\n",
      "2024-10-28 21:57:46.019 Thread 'MainThread': missing ScriptRunContext! This warning can be ignored when running in bare mode.\n",
      "2024-10-28 21:57:46.027 Thread 'MainThread': missing ScriptRunContext! This warning can be ignored when running in bare mode.\n",
      "2024-10-28 21:57:46.030 Session state does not function when running a script without `streamlit run`\n",
      "2024-10-28 21:57:46.033 Thread 'MainThread': missing ScriptRunContext! This warning can be ignored when running in bare mode.\n",
      "2024-10-28 21:57:46.036 Thread 'MainThread': missing ScriptRunContext! This warning can be ignored when running in bare mode.\n",
      "2024-10-28 21:57:46.047 Thread 'MainThread': missing ScriptRunContext! This warning can be ignored when running in bare mode.\n",
      "2024-10-28 21:57:46.049 Thread 'MainThread': missing ScriptRunContext! This warning can be ignored when running in bare mode.\n",
      "2024-10-28 21:57:46.052 Thread 'MainThread': missing ScriptRunContext! This warning can be ignored when running in bare mode.\n",
      "2024-10-28 21:57:46.055 Thread 'MainThread': missing ScriptRunContext! This warning can be ignored when running in bare mode.\n",
      "2024-10-28 21:57:46.059 Thread 'MainThread': missing ScriptRunContext! This warning can be ignored when running in bare mode.\n",
      "2024-10-28 21:57:46.063 Thread 'MainThread': missing ScriptRunContext! This warning can be ignored when running in bare mode.\n",
      "2024-10-28 21:57:46.067 Thread 'MainThread': missing ScriptRunContext! This warning can be ignored when running in bare mode.\n",
      "2024-10-28 21:57:46.075 Thread 'MainThread': missing ScriptRunContext! This warning can be ignored when running in bare mode.\n",
      "2024-10-28 21:57:46.078 Thread 'MainThread': missing ScriptRunContext! This warning can be ignored when running in bare mode.\n",
      "2024-10-28 21:57:46.081 Thread 'MainThread': missing ScriptRunContext! This warning can be ignored when running in bare mode.\n",
      "2024-10-28 21:57:46.084 Thread 'MainThread': missing ScriptRunContext! This warning can be ignored when running in bare mode.\n",
      "2024-10-28 21:57:46.088 Thread 'MainThread': missing ScriptRunContext! This warning can be ignored when running in bare mode.\n",
      "2024-10-28 21:57:46.092 Thread 'MainThread': missing ScriptRunContext! This warning can be ignored when running in bare mode.\n",
      "2024-10-28 21:57:46.095 Thread 'MainThread': missing ScriptRunContext! This warning can be ignored when running in bare mode.\n",
      "2024-10-28 21:57:46.098 Thread 'MainThread': missing ScriptRunContext! This warning can be ignored when running in bare mode.\n",
      "2024-10-28 21:57:46.101 Thread 'MainThread': missing ScriptRunContext! This warning can be ignored when running in bare mode.\n",
      "2024-10-28 21:57:46.104 Thread 'MainThread': missing ScriptRunContext! This warning can be ignored when running in bare mode.\n",
      "2024-10-28 21:57:46.108 Thread 'MainThread': missing ScriptRunContext! This warning can be ignored when running in bare mode.\n",
      "2024-10-28 21:57:46.111 Thread 'MainThread': missing ScriptRunContext! This warning can be ignored when running in bare mode.\n",
      "2024-10-28 21:57:46.114 Thread 'MainThread': missing ScriptRunContext! This warning can be ignored when running in bare mode.\n",
      "2024-10-28 21:57:46.127 Thread 'MainThread': missing ScriptRunContext! This warning can be ignored when running in bare mode.\n",
      "2024-10-28 21:57:46.132 Thread 'MainThread': missing ScriptRunContext! This warning can be ignored when running in bare mode.\n"
     ]
    }
   ],
   "source": [
    "# Create input fields for the scenario and response analysis, with sliders for customization.\n",
    "\n",
    "st.title(\"🤝 AI Negotiation Simulator\")\n",
    "\n",
    "# Scenario settings\n",
    "industry = st.selectbox(\"Choose Industry\", [\"Tech\", \"Real Estate\", \"Healthcare\", \"Finance\"])\n",
    "difficulty = st.selectbox(\"Choose Difficulty\", [\"Easy\", \"Intermediate\", \"Advanced\"])\n",
    "\n",
    "if st.button(\"Generate Scenario\"):\n",
    "    scenario = generate_negotiation_scenario(industry, difficulty)\n",
    "    st.write(\"### Negotiation Scenario:\")\n",
    "    st.write(scenario)\n",
    "\n",
    "# User response input\n",
    "user_response = st.text_area(\"Your Response\", placeholder=\"Enter your negotiation response here...\")\n",
    "\n",
    "# Analyze and give feedback on the response\n",
    "if st.button(\"Analyze Response\"):\n",
    "    feedback = generate_feedback(scenario, user_response)\n",
    "    st.write(\"### Feedback:\")\n",
    "    st.write(feedback)\n"
   ]
  },
  {
   "cell_type": "code",
   "execution_count": 7,
   "metadata": {},
   "outputs": [],
   "source": [
    "def track_progress(user_id, feedback):\n",
    "    # Simulated tracking data - you can expand this by integrating with a database\n",
    "    progress_data = {\"user_id\": user_id, \"feedback\": feedback}\n",
    "    with open(\"progress.json\", \"a\") as f:\n",
    "        json.dump(progress_data, f)\n",
    "    st.write(\"Your progress has been saved!\")\n"
   ]
  },
  {
   "cell_type": "code",
   "execution_count": 8,
   "metadata": {},
   "outputs": [
    {
     "name": "stderr",
     "output_type": "stream",
     "text": [
      "2024-10-28 21:58:25.735 Thread 'MainThread': missing ScriptRunContext! This warning can be ignored when running in bare mode.\n",
      "2024-10-28 21:58:25.736 Thread 'MainThread': missing ScriptRunContext! This warning can be ignored when running in bare mode.\n",
      "2024-10-28 21:58:25.738 Thread 'MainThread': missing ScriptRunContext! This warning can be ignored when running in bare mode.\n",
      "2024-10-28 21:58:25.740 Thread 'MainThread': missing ScriptRunContext! This warning can be ignored when running in bare mode.\n",
      "2024-10-28 21:58:25.742 Thread 'MainThread': missing ScriptRunContext! This warning can be ignored when running in bare mode.\n",
      "2024-10-28 21:58:25.743 Thread 'MainThread': missing ScriptRunContext! This warning can be ignored when running in bare mode.\n",
      "2024-10-28 21:58:25.745 Thread 'MainThread': missing ScriptRunContext! This warning can be ignored when running in bare mode.\n",
      "2024-10-28 21:58:25.750 Thread 'MainThread': missing ScriptRunContext! This warning can be ignored when running in bare mode.\n",
      "2024-10-28 21:58:25.752 Thread 'MainThread': missing ScriptRunContext! This warning can be ignored when running in bare mode.\n",
      "2024-10-28 21:58:25.755 Thread 'MainThread': missing ScriptRunContext! This warning can be ignored when running in bare mode.\n",
      "2024-10-28 21:58:25.756 Thread 'MainThread': missing ScriptRunContext! This warning can be ignored when running in bare mode.\n",
      "2024-10-28 21:58:25.758 Thread 'MainThread': missing ScriptRunContext! This warning can be ignored when running in bare mode.\n",
      "2024-10-28 21:58:25.763 Thread 'MainThread': missing ScriptRunContext! This warning can be ignored when running in bare mode.\n",
      "2024-10-28 21:58:25.765 Thread 'MainThread': missing ScriptRunContext! This warning can be ignored when running in bare mode.\n",
      "2024-10-28 21:58:25.767 Thread 'MainThread': missing ScriptRunContext! This warning can be ignored when running in bare mode.\n",
      "2024-10-28 21:58:25.769 Thread 'MainThread': missing ScriptRunContext! This warning can be ignored when running in bare mode.\n",
      "2024-10-28 21:58:25.772 Thread 'MainThread': missing ScriptRunContext! This warning can be ignored when running in bare mode.\n",
      "2024-10-28 21:58:25.774 Thread 'MainThread': missing ScriptRunContext! This warning can be ignored when running in bare mode.\n"
     ]
    }
   ],
   "source": [
    "st.sidebar.title(\"📊 Negotiation Stats\")\n",
    "st.sidebar.write(\"Here are your top metrics and improvements over time.\")\n",
    "# Placeholder for analytics - expand with real data from progress.json\n",
    "st.sidebar.write(\"Tone Quality: 85%\")\n",
    "st.sidebar.write(\"Clarity: 90%\")\n",
    "st.sidebar.write(\"Negotiation Tactics: 75%\")\n"
   ]
  }
 ],
 "metadata": {
  "kernelspec": {
   "display_name": "gpu_ml",
   "language": "python",
   "name": "python3"
  },
  "language_info": {
   "codemirror_mode": {
    "name": "ipython",
    "version": 3
   },
   "file_extension": ".py",
   "mimetype": "text/x-python",
   "name": "python",
   "nbconvert_exporter": "python",
   "pygments_lexer": "ipython3",
   "version": "3.10.15"
  }
 },
 "nbformat": 4,
 "nbformat_minor": 2
}
