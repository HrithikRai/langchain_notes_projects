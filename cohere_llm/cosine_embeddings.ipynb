{
 "cells": [
  {
   "cell_type": "code",
   "execution_count": 5,
   "metadata": {},
   "outputs": [],
   "source": [
    "import numpy as np\n",
    "import seaborn as sns\n",
    "import altair as alt\n",
    "from sklearn.metrics.pairwise import cosine_similarity"
   ]
  },
  {
   "cell_type": "code",
   "execution_count": null,
   "metadata": {},
   "outputs": [],
   "source": [
    "import cohere\n",
    "co = cohere.ClientV2(\"your_api_key\")"
   ]
  },
  {
   "cell_type": "code",
   "execution_count": 8,
   "metadata": {},
   "outputs": [],
   "source": [
    "texts = [\"I like to be in my house\", \n",
    "         \"I enjoy staying home\", \n",
    "         \"the isotope 238u decays to 206pb\"]"
   ]
  },
  {
   "cell_type": "code",
   "execution_count": 9,
   "metadata": {},
   "outputs": [],
   "source": [
    "response = co.embed(\n",
    "    texts=texts, # our list of sentences\n",
    "    model='embed-english-v3.0', # eng only embeddings model to generate embeddings\n",
    "    input_type='search_document', # indicates we will use the embeddings for searching\n",
    "    embedding_types=['float']\n",
    ")"
   ]
  },
  {
   "cell_type": "code",
   "execution_count": 10,
   "metadata": {},
   "outputs": [
    {
     "name": "stdout",
     "output_type": "stream",
     "text": [
      "Embedding for sentence 1 [ 0.05075073  0.03753662 -0.02958679 ... -0.07366943 -0.00842285\n",
      " -0.01834106]\n",
      "Embedding for sentence 2 [ 0.04333496  0.05407715 -0.02453613 ... -0.06182861 -0.01983643\n",
      " -0.0096283 ]\n",
      "Embedding for sentence 3 [ 0.02383423  0.00695801 -0.04669189 ... -0.04006958 -0.02304077\n",
      "  0.01963806]\n"
     ]
    }
   ],
   "source": [
    "embeddings = response.embeddings.float\n",
    "\n",
    "[sentence1, sentence2, sentence3] = embeddings\n",
    "\n",
    "print(\"Embedding for sentence 1\", np.array(sentence1))\n",
    "print(\"Embedding for sentence 2\", np.array(sentence2))\n",
    "print(\"Embedding for sentence 3\", np.array(sentence3))"
   ]
  },
  {
   "cell_type": "code",
   "execution_count": 11,
   "metadata": {},
   "outputs": [
    {
     "name": "stdout",
     "output_type": "stream",
     "text": [
      "Similarity between sentences 1 and 2: 0.8187172323456495\n",
      "Similarity between sentences 1 and 3: 0.1952170633623921\n",
      "Similarity between sentences 2 and 3: 0.19826654576138197\n"
     ]
    }
   ],
   "source": [
    "# Dot product similarity of embeddings (a vector of length 1024)\n",
    "print(\"Similarity between sentences 1 and 2:\", np.dot(sentence1, sentence2))\n",
    "print(\"Similarity between sentences 1 and 3:\", np.dot(sentence1, sentence3))\n",
    "print(\"Similarity between sentences 2 and 3:\", np.dot(sentence2, sentence3))"
   ]
  },
  {
   "cell_type": "code",
   "execution_count": 12,
   "metadata": {},
   "outputs": [
    {
     "name": "stdout",
     "output_type": "stream",
     "text": [
      "Cosine similarity between sentences 1 and 2: 0.8187305165459494\n",
      "Cosine similarity between sentences 1 and 3: 0.195216586304462\n",
      "Cosine similarity between sentences 2 and 3: 0.1983053317541077\n"
     ]
    }
   ],
   "source": [
    "print(\"Cosine similarity between sentences 1 and 2:\", cosine_similarity([sentence1], [sentence2])[0][0])  \n",
    "print(\"Cosine similarity between sentences 1 and 3:\", cosine_similarity([sentence1], [sentence3])[0][0])  \n",
    "print(\"Cosine similarity between sentences 2 and 3:\", cosine_similarity([sentence2], [sentence3])[0][0])\n"
   ]
  }
 ],
 "metadata": {
  "kernelspec": {
   "display_name": "gpu_ml",
   "language": "python",
   "name": "python3"
  },
  "language_info": {
   "codemirror_mode": {
    "name": "ipython",
    "version": 3
   },
   "file_extension": ".py",
   "mimetype": "text/x-python",
   "name": "python",
   "nbconvert_exporter": "python",
   "pygments_lexer": "ipython3",
   "version": "3.10.15"
  }
 },
 "nbformat": 4,
 "nbformat_minor": 2
}
