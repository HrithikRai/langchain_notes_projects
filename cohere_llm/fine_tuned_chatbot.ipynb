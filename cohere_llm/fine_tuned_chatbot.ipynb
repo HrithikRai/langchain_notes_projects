{
 "cells": [
  {
   "cell_type": "code",
   "execution_count": null,
   "metadata": {},
   "outputs": [],
   "source": [
    "import cohere\n",
    "co = cohere.ClientV2(\"api_key\")"
   ]
  },
  {
   "cell_type": "code",
   "execution_count": 4,
   "metadata": {},
   "outputs": [],
   "source": [
    "import os\n",
    "import json\n",
    "import jsonlines"
   ]
  },
  {
   "cell_type": "markdown",
   "metadata": {},
   "source": [
    "#### dataset used - \n",
    "https://huggingface.co/datasets/grammarly/coedit?ref=cohere-ai.ghost.io\n",
    "\n",
    "#### eg:\n",
    "{\n",
    " \"_id\": \"57241\", \n",
    " \"task\": \"coherence\", \n",
    " \"src\": \"Make the text more coherent: It lasted for 60 minutes. It featured the three men taking questions from a studio audience.\", \n",
    " \"tgt\": \"Lasting for 60 minutes, it featured the three men taking questions from a studio audience.\"\n",
    "}\n",
    "\n",
    "{\n",
    " \"_id\": \"69028\", \n",
    " \"task\": \"clarity\", \n",
    " \"src\": \"Make the sentence clearer: URLe Lilanga (1934 27 June 2005) was a Tanzanian painter and sculptor, active from the late 1970s and until the early years of the 21st century.\", \n",
    " \"tgt\": \"URLe Lilanga (1934 27 June 2005) was a Tanzanian painter and sculptor, active from the late 1970s and until the early 21st century.\"\n",
    "}\n",
    "\n"
   ]
  },
  {
   "cell_type": "code",
   "execution_count": 9,
   "metadata": {},
   "outputs": [
    {
     "name": "stderr",
     "output_type": "stream",
     "text": [
      "'wget' is not recognized as an internal or external command,\n",
      "operable program or batch file.\n"
     ]
    }
   ],
   "source": [
    "# Download the dataset\n",
    "from datasets import load_dataset"
   ]
  },
  {
   "cell_type": "code",
   "execution_count": 10,
   "metadata": {},
   "outputs": [
    {
     "name": "stderr",
     "output_type": "stream",
     "text": [
      "f:\\Users\\MSI\\miniconda3\\envs\\gpu_ml\\lib\\site-packages\\huggingface_hub\\file_download.py:139: UserWarning: `huggingface_hub` cache-system uses symlinks by default to efficiently store duplicated files but your machine does not support them in C:\\Users\\MSI\\.cache\\huggingface\\hub\\datasets--grammarly--coedit. Caching files will still work but in a degraded version that might require more space on your disk. This warning can be disabled by setting the `HF_HUB_DISABLE_SYMLINKS_WARNING` environment variable. For more details, see https://huggingface.co/docs/huggingface_hub/how-to-cache#limitations.\n",
      "To support symlinks on Windows, you either need to activate Developer Mode or to run Python as an administrator. In order to activate developer mode, see this article: https://docs.microsoft.com/en-us/windows/apps/get-started/enable-your-device-for-development\n",
      "  warnings.warn(message)\n",
      "Generating train split: 100%|██████████| 69071/69071 [00:00<00:00, 139351.75 examples/s]\n",
      "Generating validation split: 100%|██████████| 1712/1712 [00:00<00:00, 171208.33 examples/s]\n"
     ]
    }
   ],
   "source": [
    "dataset = load_dataset(\"grammarly/coedit\", split=\"train\")"
   ]
  },
  {
   "cell_type": "code",
   "execution_count": 11,
   "metadata": {},
   "outputs": [
    {
     "data": {
      "text/plain": [
       "Dataset({\n",
       "    features: ['_id', 'task', 'src', 'tgt'],\n",
       "    num_rows: 69071\n",
       "})"
      ]
     },
     "execution_count": 11,
     "metadata": {},
     "output_type": "execute_result"
    }
   ],
   "source": [
    "dataset"
   ]
  },
  {
   "cell_type": "code",
   "execution_count": 13,
   "metadata": {},
   "outputs": [
    {
     "name": "stderr",
     "output_type": "stream",
     "text": [
      "Filter: 100%|██████████| 69071/69071 [00:00<00:00, 75001.62 examples/s] "
     ]
    },
    {
     "name": "stdout",
     "output_type": "stream",
     "text": [
      "Total number of examples: 927\n",
      "Number of examples in training set: 800\n",
      "Number of examples in the test set: 127\n"
     ]
    },
    {
     "name": "stderr",
     "output_type": "stream",
     "text": [
      "\n"
     ]
    }
   ],
   "source": [
    "# Assuming 'dataset' is your loaded dataset object\n",
    "phrase = \"coherent\"  # Replace with the actual phrase you're searching for\n",
    "\n",
    "# Use the filter method to create a subset\n",
    "filtered_dataset = dataset.filter(lambda example: phrase in example['src'].split(\":\")[0])\n",
    "\n",
    "# Convert to a list if you still need it as list of dictionaries\n",
    "dataset_list = [example for example in filtered_dataset]\n",
    "# Split data into training and test\n",
    "dataset_list_train = dataset_list[:800]\n",
    "dataset_list_test = dataset_list[800:]\n",
    "\n",
    "print(\"Total number of examples:\", len(dataset_list))\n",
    "print(\"Number of examples in training set:\", len(dataset_list_train))\n",
    "print(\"Number of examples in the test set:\", len(dataset_list_test))"
   ]
  },
  {
   "cell_type": "code",
   "execution_count": 15,
   "metadata": {},
   "outputs": [
    {
     "name": "stdout",
     "output_type": "stream",
     "text": [
      "Make the text coherent: The Bank's main strategy is to further expand its network and increase its lending activities with particular focus on the SME sector. The EBRD helps Bank, by developing and financing Bank's portfolio of and strengthening the bank's funding base.\n",
      "The Bank's main strategy is to further expand its network and increase its lending activities with particular focus on the SME sector. The EBRD helps Union Bank, by developing and financing its portfolio of and strengthening the bank's funding base.\n",
      "--------------------------------------------------\n",
      "Make the text coherent: It was not illegal under international law ; captured foreign sailors were released. Confederates went to prison camps.\n",
      "It was not illegal under international law ; captured foreign sailors were released, while Confederates went to prison camps.\n",
      "--------------------------------------------------\n",
      "Make the text coherent: The Union blockade was a powerful weapon that eventually ruined the Southern economy, at the cost of very few lives. The measure of the blockade's success was not the few ships that slipped through, but the thousands that never tried Union.\n",
      "The Union blockade was a powerful weapon that eventually ruined the Southern economy, at the cost of very few lives. The measure of the blockade's success was not the few ships that slipped through, but the thousands that never tried it.\n",
      "--------------------------------------------------\n",
      "Make the text more coherent: It lasted for 60 minutes. It featured the three men taking questions from a studio audience.\n",
      "Lasting for 60 minutes, it featured the three men taking questions from a studio audience.\n",
      "--------------------------------------------------\n",
      "Make the text more coherent: The Security Council could not decide on a Secretary-General. The Third World countries would not nominate any other candidates as long as Salim remained in the race.\n",
      "The Security Council could not decide on a Secretary-General, but the Third World countries would not nominate any other candidates as long as Salim remained in the race.\n",
      "--------------------------------------------------\n",
      "Make the text coherent: All of the 2011 inductees lost their lives in the 1961 crash of Sabena Flight 548, considered to be the most tragic event in figure skating history. inductees were honored posthumously in observance of the fiftieth anniversary of the tragedy.\n",
      "All of the 2011 inductees lost their lives in the 1961 crash of Sabena Flight 548, considered to be the most tragic event in figure skating history. They were honored posthumously in observance of the fiftieth anniversary of the tragedy.\n",
      "--------------------------------------------------\n",
      "Make the text more coherent: Foreign Service personnel stationed in nations with inadequate public infrastructure also face greater risk of injury or death due to fire, traffic accidents, and natural disasters. An FSO was one of the first identified victims of the 2010 Haiti earthquake.\n",
      "Foreign Service personnel stationed in nations with inadequate public infrastructure also face greater risk of injury or death due to fire, traffic accidents, and natural disasters. For instance, an FSO was one of the first identified victims of the 2010 Haiti earthquake.\n",
      "--------------------------------------------------\n",
      "Make the text more coherent: The Federalist Party made a relatively strong showing, winning seats in both chambers while supporting a competitive challenge to the incumbent Democratic-Republican President. The Democratic-Republican continued Democratic-Republican's control of the Presidency and both houses of Congress.\n",
      "The Federalist Party made a relatively strong showing, winning seats in both chambers while supporting a competitive challenge to the incumbent Democratic-Republican President. However, the Democratic-Republican Party continued its control of the Presidency and both houses of Congress.\n",
      "--------------------------------------------------\n",
      "Make the text coherent: Since the 1990s, Loughborough University operated a satellite higher education campus in Peterborough. This closed in 2003, leaving the city as one of the largest urban areas in the country without a dedicated provision of higher education.\n",
      "Since the 1990s, Loughborough University operated a satellite higher education campus in Peterborough. However, this closed in 2003, leaving the city as one of the largest urban areas in the country without a dedicated provision of higher education.\n",
      "--------------------------------------------------\n",
      "Make the text coherent: The cancer center is named after Monroe Dunaway Anderson, a banker and cotton trader from Jackson, Tennessee. Monroe Dunaway Anderson was a banker of a business partnership with Monroe Dunaway Anderson's brother-in-law Will Clayton.\n",
      "The cancer center is named after Monroe Dunaway Anderson, a banker and cotton trader from Jackson, Tennessee. He was a member of a business partnership with his brother-in-law Will Clayton.\n",
      "--------------------------------------------------\n"
     ]
    }
   ],
   "source": [
    "for item in dataset_list_train[:10]:\n",
    "    print(item[\"src\"])\n",
    "    print(item[\"tgt\"])\n",
    "    print(\"-\"*50)"
   ]
  },
  {
   "cell_type": "code",
   "execution_count": 16,
   "metadata": {},
   "outputs": [
    {
     "name": "stdout",
     "output_type": "stream",
     "text": [
      "{'messages': [{'role': 'System', 'content': 'You are a writing assistant that helps the user write coherent text.'}, {'role': 'User', 'content': \"Make the text coherent: The Bank's main strategy is to further expand its network and increase its lending activities with particular focus on the SME sector. The EBRD helps Bank, by developing and financing Bank's portfolio of and strengthening the bank's funding base.\"}, {'role': 'Chatbot', 'content': \"The Bank's main strategy is to further expand its network and increase its lending activities with particular focus on the SME sector. The EBRD helps Union Bank, by developing and financing its portfolio of and strengthening the bank's funding base.\"}]}\n",
      "{'messages': [{'role': 'System', 'content': 'You are a writing assistant that helps the user write coherent text.'}, {'role': 'User', 'content': 'Make the text coherent: It was not illegal under international law ; captured foreign sailors were released. Confederates went to prison camps.'}, {'role': 'Chatbot', 'content': 'It was not illegal under international law ; captured foreign sailors were released, while Confederates went to prison camps.'}]}\n",
      "{'messages': [{'role': 'System', 'content': 'You are a writing assistant that helps the user write coherent text.'}, {'role': 'User', 'content': \"Make the text coherent: The Union blockade was a powerful weapon that eventually ruined the Southern economy, at the cost of very few lives. The measure of the blockade's success was not the few ships that slipped through, but the thousands that never tried Union.\"}, {'role': 'Chatbot', 'content': \"The Union blockade was a powerful weapon that eventually ruined the Southern economy, at the cost of very few lives. The measure of the blockade's success was not the few ships that slipped through, but the thousands that never tried it.\"}]}\n"
     ]
    }
   ],
   "source": [
    "# arranges the data to suit Cohere's format\n",
    "def create_chat_ft_data(system_message, user_message, chatbot_message):\n",
    "    formatted_data = {\n",
    "        \"messages\": [\n",
    "            {\n",
    "                \"role\": \"System\",\n",
    "                \"content\": system_message\n",
    "            },\n",
    "            {\n",
    "                \"role\": \"User\",\n",
    "                \"content\": user_message\n",
    "            },\n",
    "            {\n",
    "                \"role\": \"Chatbot\",\n",
    "                \"content\": chatbot_message\n",
    "            }\n",
    "        ]\n",
    "    }\n",
    "\n",
    "    return formatted_data\n",
    "\n",
    "system_message = \"You are a writing assistant that helps the user write coherent text.\"\n",
    "\n",
    "# creates jsonl file from list of examples\n",
    "def create_jsonl_from_list(file_name, dataset_segment, system_message):\n",
    "    path = f'{file_name}.jsonl'\n",
    "    if not os.path.isfile(path):\n",
    "        with open(path, 'w+') as file:\n",
    "            for item in dataset_segment:\n",
    "                user_message = item[\"src\"]\n",
    "                chatbot_message = item[\"tgt\"]\n",
    "                formatted_data = create_chat_ft_data(system_message, user_message, chatbot_message)\n",
    "                file.write(json.dumps(formatted_data) + '\\n')\n",
    "            file.close()\n",
    "\n",
    "# Create training jsonl file\n",
    "file_name = \"coedit_coherence_train\"\n",
    "create_jsonl_from_list(file_name, dataset_list_train, system_message)\n",
    "\n",
    "# List the first 3 items in the JSONL file\n",
    "with jsonlines.open(f'{file_name}.jsonl') as f:\n",
    "    [print(line) for _, line in zip(range(3), f)]"
   ]
  },
  {
   "cell_type": "code",
   "execution_count": null,
   "metadata": {},
   "outputs": [],
   "source": [
    "for item in dataset_list_test[:1]:\n",
    "    # User prompt\n",
    "    user_message = item[\"src\"]\n",
    "    # Desired/target response from dataset\n",
    "    tgt_message = item[\"tgt\"]\n",
    "    system_message = \"You are a writing assistant that helps the user write coherent text.\"\n",
    "\n",
    "\n",
    "    # Get default model response\n",
    "    response_pretrained=co.chat(\n",
    "        model=\"command-r-plus\",\n",
    "        messages=[cohere.UserMessage(content=system_message),\n",
    "                  cohere.UserMessage(content=user_message)],\n",
    "        )\n",
    "\n",
    "    # Get fine-tuned model response\n",
    "    response_finetuned = co.chat(\n",
    "        model=\"4708865e-3870-42bf-99fa-ffe84e81fd5f-ft\",\n",
    "        messages=[cohere.UserMessage(content=system_message),\n",
    "                  cohere.UserMessage(content=user_message)],\n",
    "        \n",
    "        )\n",
    "\n",
    "    print(f\"User: {user_message}\",\"\\n-----\")\n",
    "    print(f\"Desired response: {tgt_message}\",\"\\n-----\")\n",
    "    print(f\"Default model's response: {response_pretrained.message.content[0]['text']}\",\"\\n-----\")\n",
    "    print(f\"Fine-tuned model's response: {response_finetuned.message.content[0]['text']}\")\n",
    "\n",
    "\n",
    "    print(\"-\"*100,\"\\n\\n\")"
   ]
  },
  {
   "cell_type": "code",
   "execution_count": 18,
   "metadata": {},
   "outputs": [],
   "source": [
    "model = \"4708865e-3870-42bf-99fa-ffe84e81fd5f-ft\"\n",
    "\n",
    "def run_chat(user_message, messages=[]):\n",
    "\n",
    "    messages = messages\n",
    "\n",
    "    if not any(m.role == 'system' for m in messages):\n",
    "        messages.append(cohere.SystemMessage(content=system_message))\n",
    "        \n",
    "    # Generate response\n",
    "    response = co.chat(model=model,\n",
    "                       messages=[cohere.UserMessage(content=user_message)])\n",
    "    \n",
    "    print(response.message.content[0]['text'])\n",
    "    \n",
    "    # Append the turn to the chat history\n",
    "    messages.extend([cohere.UserMessage(content=user_message),\n",
    "                     response.message])\n",
    "    \n",
    "    return messages"
   ]
  },
  {
   "cell_type": "code",
   "execution_count": null,
   "metadata": {},
   "outputs": [],
   "source": [
    "messages = run_chat(\"Hello\")\n",
    "\n",
    "messages = run_chat(\"I'm fine. Can I ask you for help with some tasks?\", messages)\n"
   ]
  }
 ],
 "metadata": {
  "kernelspec": {
   "display_name": "gpu_ml",
   "language": "python",
   "name": "python3"
  },
  "language_info": {
   "codemirror_mode": {
    "name": "ipython",
    "version": 3
   },
   "file_extension": ".py",
   "mimetype": "text/x-python",
   "name": "python",
   "nbconvert_exporter": "python",
   "pygments_lexer": "ipython3",
   "version": "3.10.15"
  }
 },
 "nbformat": 4,
 "nbformat_minor": 2
}
