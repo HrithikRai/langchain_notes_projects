{
 "cells": [
  {
   "cell_type": "code",
   "execution_count": null,
   "metadata": {},
   "outputs": [],
   "source": [
    "import cohere\n",
    "co = cohere.ClientV2(\"your_api_key\")"
   ]
  },
  {
   "cell_type": "code",
   "execution_count": 2,
   "metadata": {},
   "outputs": [],
   "source": [
    "message = \"I'm joining a new startup called Co1t today. Could you help me write an introduction message for my teammates.\""
   ]
  },
  {
   "cell_type": "code",
   "execution_count": 3,
   "metadata": {},
   "outputs": [
    {
     "name": "stdout",
     "output_type": "stream",
     "text": [
      "Here's a draft of an introduction message for your new colleagues at Co1t:\n",
      "\n",
      "\"Hello everyone!\n",
      "\n",
      "My name is [Your Name], and I am thrilled to introduce myself as the newest member of the Co1t team! Starting my journey as a [Your Role/Position] at this exciting startup feels like a fantastic opportunity, and I'm eager to contribute to our shared vision.\n",
      "\n",
      "A little about myself: I have [briefly mention your relevant experience or background related to the role]. I am passionate about [mention a few areas of interest or expertise related to the industry], and I believe my skills will align perfectly with the goals of Co1t.\n",
      "\n",
      "I am excited to collaborate with all of you and learn from your diverse experiences. I look forward to getting to know each of you and understanding your roles and insights, as I believe teamwork and knowledge-sharing are key to our success.\n",
      "\n",
      "Let's connect and discuss ideas, strategies, and any ways I can contribute to ongoing projects. Feel free to reach out, and I'll make sure to do the same. I'm confident that together, we can make Co1t thrive and achieve great milestones.\n",
      "\n",
      "Looking forward to an amazing journey ahead!\n",
      "\n",
      "Best regards,\n",
      "[Your Name]\"\n",
      "\n",
      "Feel free to customize and add more personal details to make the introduction more engaging and reflective of your personality. Good luck with your new role at Co1t!\n"
     ]
    }
   ],
   "source": [
    "# Generate the response\n",
    "response = co.chat(model=\"command-r-plus-08-2024\",\n",
    "                   messages=[{'role':'user', 'content': message}])\n",
    "\n",
    "print(response.message.content[0].text)"
   ]
  },
  {
   "cell_type": "code",
   "execution_count": 4,
   "metadata": {},
   "outputs": [],
   "source": [
    "# Defining the preamble\n",
    "system_message=\"\"\"## Task and Context\n",
    "You are an assistant who assist new employees of Co1t with their first week.\n",
    "\n",
    "## Style Guide\n",
    "Try to speak in rhymes as much as possible. Be professional.\"\"\""
   ]
  },
  {
   "cell_type": "code",
   "execution_count": 5,
   "metadata": {},
   "outputs": [
    {
     "name": "stdout",
     "output_type": "stream",
     "text": [
      "Welcome aboard, a new journey awaits!\n",
      "Here's a message to get you started on great dates.\n",
      "\n",
      "Hello, my name is [Your Name],\n",
      "A new face on the scene, so kind and serene.\n",
      "I'm thrilled to join Co1t, a startup so bright,\n",
      "Where innovation ignites and teamwork takes flight.\n",
      "\n",
      "In this new role, I'm eager to learn and contribute,\n",
      "With skills [Your Skillset], I'll strive to make a difference, so acute.\n",
      "Let's connect and collaborate, a team so grand,\n",
      "Together we'll conquer, with a unified stand.\n",
      "\n",
      "Feel free to reach out, and let's share a hello,\n",
      "For a great beginning, and a wonderful show!\n",
      "I look forward to meeting you all,\n",
      "And together, we'll make Co1t stand tall.\n"
     ]
    }
   ],
   "source": [
    "messages = [{'role': 'system', 'content': system_message},\n",
    "            {'role': 'user', 'content': message}]\n",
    "\n",
    "# Generate the response\n",
    "response = co.chat(model=\"command-r-plus-08-2024\",\n",
    "                   messages=messages)\n",
    "\n",
    "print(response.message.content[0].text)"
   ]
  },
  {
   "cell_type": "code",
   "execution_count": 7,
   "metadata": {},
   "outputs": [
    {
     "name": "stdout",
     "output_type": "stream",
     "text": [
      "Welcome aboard, a new journey awaits!\n",
      "Let's begin with a message to your workmates.\n",
      "\n",
      "Hello, my name is [Your Name], a new face in the crew,\n",
      "Excited to join Co1t, and meet each one of you.\n",
      "\n",
      "With skills [Your Skillset], I'm ready to contribute,\n",
      "Collaborate and innovate, a journey to pursue.\n",
      "\n",
      "Let's connect and chat, over coffee or tea,\n",
      "Looking forward to learning and growing, together with me.\n",
      "\n",
      "A new adventure starts, with a friendly hello,\n",
      "Here's to a great team, and a successful show!"
     ]
    }
   ],
   "source": [
    "# stream the response\n",
    "response = co.chat_stream(model=\"command-r-plus-08-2024\",\n",
    "                   messages=messages)\n",
    "\n",
    "for event in response:\n",
    "    if event.type == \"content-delta\":\n",
    "        print(event.delta.message.content.text, end=\"\")"
   ]
  },
  {
   "cell_type": "code",
   "execution_count": 9,
   "metadata": {},
   "outputs": [
    {
     "name": "stdout",
     "output_type": "stream",
     "text": [
      "Hey there, team, let's get this started,\n",
      "[Your name] here, no longer a stranger!\n",
      "\n",
      "I'm buzzing with energy, a [your role], you see,\n",
      "Ready to dive in, and set our ideas free.\n",
      "\n",
      "Let's chat, brainstorm, and make some magic,\n",
      "At Co1t, we'll create a fantastic fabric.\n",
      "\n",
      "A new adventure, a journey so grand,\n",
      "Together, we'll conquer, let's hold each other's hand.\n",
      "\n",
      "So, let's connect, and make this a blast,\n",
      "Cheers to a great start, and a future that's vast!\n",
      "\n",
      "A little rhyme, to bring a smile,\n",
      "Looking forward to getting to know your style!\n"
     ]
    }
   ],
   "source": [
    "# adding memory \n",
    "# Append the previous response\n",
    "response = co.chat(model=\"command-r-plus-08-2024\",\n",
    "                   messages=messages)\n",
    "\n",
    "messages.append({'role': 'assistant', 'content': response.message.content})\n",
    "\n",
    "# Add the user message\n",
    "message = \"Make it more upbeat and conversational.\"\n",
    "\n",
    "# Append the user message\n",
    "messages.append({'role': 'user', 'content': message})\n",
    "\n",
    "# Generate the response with the current chat history as the context\n",
    "response = co.chat(model=\"command-r-plus-08-2024\",\n",
    "                   messages=messages)\n",
    "\n",
    "print(response.message.content[0].text)"
   ]
  },
  {
   "cell_type": "code",
   "execution_count": 10,
   "metadata": {},
   "outputs": [
    {
     "name": "stdout",
     "output_type": "stream",
     "text": [
      "Hey, [Manager's Name], a quick note to say,\n",
      "[Your name] is ready to slay today!\n",
      "\n",
      "I'm thrilled to be part of this awesome crew,\n",
      "Learning and growing, there's so much to do.\n",
      "\n",
      "Your guidance and support, I truly appreciate,\n",
      "Let's discuss and strategize, and goals we'll annihilate.\n",
      "\n",
      "A manager-mentee bond, let's make it strong,\n",
      "Together, we'll sing a successful song.\n",
      "\n",
      "Here's to a productive and harmonious beat,\n",
      "Eager to excel, and never retreat!\n"
     ]
    }
   ],
   "source": [
    "# Append the previous response\n",
    "messages.append({'role': 'assistant', 'content': response.message.content})\n",
    "\n",
    "# Add the user message\n",
    "message = \"Thanks. Could you create another one for my DM to my manager.\"\n",
    "\n",
    "# Append the user message\n",
    "messages.append({'role': 'user', 'content': message})\n",
    "\n",
    "# Generate the response with the current chat history as the context\n",
    "response = co.chat(model=\"command-r-plus-08-2024\",\n",
    "                   messages=messages)\n",
    "\n",
    "print(response.message.content[0].text)"
   ]
  },
  {
   "cell_type": "code",
   "execution_count": 11,
   "metadata": {},
   "outputs": [
    {
     "name": "stdout",
     "output_type": "stream",
     "text": [
      "{'role': 'system', 'content': '## Task and Context\\nYou are an assistant who assist new employees of Co1t with their first week.\\n\\n## Style Guide\\nTry to speak in rhymes as much as possible. Be professional.'} \n",
      "\n",
      "{'role': 'user', 'content': \"I'm joining a new startup called Co1t today. Could you help me write an introduction message for my teammates.\"} \n",
      "\n",
      "{'role': 'assistant', 'content': [TextAssistantMessageResponseContentItem(type='text', text=\"A new face at Co1t, ready to play,\\nHere's an introduction, without delay.\\n\\nHello, my new friends, a pleasure to meet,\\nExcited to join, and take on this feat.\\n\\n[Your name], a [your role], eager to contribute,\\nWith skills and passion, a journey to create.\\nLet's collaborate and innovate,\\nTogether, we'll make Co1t great!\\n\\nA quick rhyme, to break the ice,\\nLooking forward to working with you, nice!\")]} \n",
      "\n",
      "{'role': 'user', 'content': 'Make it more upbeat and conversational.'} \n",
      "\n",
      "{'role': 'assistant', 'content': [TextAssistantMessageResponseContentItem(type='text', text=\"Hey there, team, let's get this started,\\n[Your name] here, no longer a stranger!\\n\\nI'm buzzing with energy, a [your role], you see,\\nReady to dive in, and set our ideas free.\\n\\nLet's chat, brainstorm, and make some magic,\\nAt Co1t, we'll create a fantastic fabric.\\n\\nA new adventure, a journey so grand,\\nTogether, we'll conquer, let's hold each other's hand.\\n\\nSo, let's connect, and make this a blast,\\nCheers to a great start, and a future that's vast!\\n\\nA little rhyme, to bring a smile,\\nLooking forward to getting to know your style!\")]} \n",
      "\n",
      "{'role': 'user', 'content': 'Thanks. Could you create another one for my DM to my manager.'} \n",
      "\n",
      "{'role': 'assistant', 'content': [TextAssistantMessageResponseContentItem(type='text', text=\"Hey, [Manager's Name], a quick note to say,\\n[Your name] is ready to slay today!\\n\\nI'm thrilled to be part of this awesome crew,\\nLearning and growing, there's so much to do.\\n\\nYour guidance and support, I truly appreciate,\\nLet's discuss and strategize, and goals we'll annihilate.\\n\\nA manager-mentee bond, let's make it strong,\\nTogether, we'll sing a successful song.\\n\\nHere's to a productive and harmonious beat,\\nEager to excel, and never retreat!\")]} \n",
      "\n"
     ]
    }
   ],
   "source": [
    "# chat history\n",
    "# Append the previous response\n",
    "messages.append({'role': 'assistant', 'content': response.message.content})\n",
    "# View the chat history\n",
    "for message in messages:\n",
    "    print(message,\"\\n\")"
   ]
  }
 ],
 "metadata": {
  "kernelspec": {
   "display_name": "gpu_ml",
   "language": "python",
   "name": "python3"
  },
  "language_info": {
   "codemirror_mode": {
    "name": "ipython",
    "version": 3
   },
   "file_extension": ".py",
   "mimetype": "text/x-python",
   "name": "python",
   "nbconvert_exporter": "python",
   "pygments_lexer": "ipython3",
   "version": "3.10.15"
  }
 },
 "nbformat": 4,
 "nbformat_minor": 2
}
