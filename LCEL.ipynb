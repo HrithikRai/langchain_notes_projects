{
 "cells": [
  {
   "cell_type": "code",
   "execution_count": null,
   "metadata": {},
   "outputs": [],
   "source": [
    "#Pass the input through a list of runnables and get the desired parsed output"
   ]
  },
  {
   "cell_type": "code",
   "execution_count": 6,
   "metadata": {},
   "outputs": [],
   "source": [
    "%dotenv\n",
    "import os\n",
    "cohere_api_key = os.getenv(\"COHERE_API_KEY\")"
   ]
  },
  {
   "cell_type": "code",
   "execution_count": 7,
   "metadata": {},
   "outputs": [],
   "source": [
    "from langchain_cohere import ChatCohere\n",
    "chat = ChatCohere(cohere_api_key=cohere_api_key)"
   ]
  },
  {
   "cell_type": "code",
   "execution_count": 8,
   "metadata": {},
   "outputs": [],
   "source": [
    "from langchain_core.prompts import ChatPromptTemplate\n",
    "from langchain_core.output_parsers import CommaSeparatedListOutputParser"
   ]
  },
  {
   "cell_type": "code",
   "execution_count": 9,
   "metadata": {},
   "outputs": [],
   "source": [
    "list_instructions = CommaSeparatedListOutputParser().get_format_instructions()"
   ]
  },
  {
   "cell_type": "code",
   "execution_count": 10,
   "metadata": {},
   "outputs": [
    {
     "data": {
      "text/plain": [
       "'Your response should be a list of comma separated values, eg: `foo, bar, baz` or `foo,bar,baz`'"
      ]
     },
     "execution_count": 10,
     "metadata": {},
     "output_type": "execute_result"
    }
   ],
   "source": [
    "list_instructions"
   ]
  },
  {
   "cell_type": "code",
   "execution_count": 14,
   "metadata": {},
   "outputs": [],
   "source": [
    "chat_template = ChatPromptTemplate.from_messages([('human',\n",
    "                                                   \"I've recently adopted a {pet}, suggest some funny disrespectfull names \\n\"+list_instructions)])"
   ]
  },
  {
   "cell_type": "code",
   "execution_count": 17,
   "metadata": {},
   "outputs": [
    {
     "name": "stdout",
     "output_type": "stream",
     "text": [
      "I've recently adopted a {pet}, suggest some funny disrespectfull names \n",
      "Your response should be a list of comma separated values, eg: `foo, bar, baz` or `foo,bar,baz`\n"
     ]
    }
   ],
   "source": [
    "print(chat_template.messages[0].prompt.template)"
   ]
  },
  {
   "cell_type": "code",
   "execution_count": 23,
   "metadata": {},
   "outputs": [],
   "source": [
    "list_output_parser = CommaSeparatedListOutputParser()"
   ]
  },
  {
   "cell_type": "code",
   "execution_count": 19,
   "metadata": {},
   "outputs": [],
   "source": [
    "chat_template_result  = chat_template.invoke({'pet':'dog'})"
   ]
  },
  {
   "cell_type": "code",
   "execution_count": 21,
   "metadata": {},
   "outputs": [],
   "source": [
    "chat_result = chat.invoke(chat_template_result)"
   ]
  },
  {
   "cell_type": "code",
   "execution_count": 24,
   "metadata": {},
   "outputs": [
    {
     "data": {
      "text/plain": [
       "['`Sir Barks-A-Lot',\n",
       " 'Mr. Goodboy',\n",
       " 'Captain Fetch',\n",
       " 'The Great Paw-lanski',\n",
       " 'Dr. Ruffenstein',\n",
       " 'Sir Licks-A-Lot',\n",
       " 'Professor Waggins',\n",
       " 'Lord Sniffington',\n",
       " 'King Growler',\n",
       " 'Sir Whimpleton',\n",
       " 'Mr. Meowgi`']"
      ]
     },
     "execution_count": 24,
     "metadata": {},
     "output_type": "execute_result"
    }
   ],
   "source": [
    "list_output_parser.invoke(chat_result)"
   ]
  },
  {
   "cell_type": "code",
   "execution_count": 25,
   "metadata": {},
   "outputs": [],
   "source": [
    "# Chaining the above ops\n",
    "chain = chat_template | chat | list_output_parser"
   ]
  },
  {
   "cell_type": "code",
   "execution_count": 35,
   "metadata": {},
   "outputs": [
    {
     "data": {
      "text/plain": [
       "['Here are some funny and potentially disrespectful names for your fish:\\n\\n`Swim Shady',\n",
       " 'Sir Swims-a-Lot',\n",
       " 'Fish Stick',\n",
       " 'Captain Hook',\n",
       " \"Nemo's Nightmare\",\n",
       " 'Bubbles Malone',\n",
       " 'Gill Gates',\n",
       " 'Flipper McFlipper',\n",
       " 'Sushi Roll',\n",
       " 'Dr. Finstein',\n",
       " 'Shark Bait`']"
      ]
     },
     "execution_count": 35,
     "metadata": {},
     "output_type": "execute_result"
    }
   ],
   "source": [
    "chain.invoke({'pet':'fish'})\n",
    "# traceable, just apply invoe indv to each component"
   ]
  },
  {
   "cell_type": "code",
   "execution_count": 34,
   "metadata": {},
   "outputs": [
    {
     "name": "stdout",
     "output_type": "stream",
     "text": [
      "CPU times: total: 0 ns\n",
      "Wall time: 2.1 s\n"
     ]
    },
    {
     "data": {
      "text/plain": [
       "[['`Sir Barks-a-Lot',\n",
       "  'Mr. Goodboy',\n",
       "  'Captain Fluffernutter',\n",
       "  'Professor Sniffles',\n",
       "  'King Growlsworth',\n",
       "  'Sir Waggington',\n",
       "  'The Great Pawdini',\n",
       "  'Dr. Barkenstein',\n",
       "  'Lord No-Bites',\n",
       "  'Sir Licks-a-Lot',\n",
       "  'Mr. Chewinski',\n",
       "  'Captain Howlwind',\n",
       "  'Sniffles von Snout',\n",
       "  'Growler McFurface',\n",
       "  'Sir Belly-Rub',\n",
       "  'The Notorious P.U.T.`'],\n",
       " ['Here are some humorous and irreverent names for your new cat:\\n\\n`Chairman Meow',\n",
       "  'Purrlock Holmes',\n",
       "  'Catrick Swayze',\n",
       "  'Meowchael Scott',\n",
       "  'Catniss Everclean',\n",
       "  'Pawdrey Hepburn',\n",
       "  'Catpuccino',\n",
       "  'Sir Purr-a-lot',\n",
       "  'Clawdia',\n",
       "  'Al Catpone',\n",
       "  'Meowtain Dew`']]"
      ]
     },
     "execution_count": 34,
     "metadata": {},
     "output_type": "execute_result"
    }
   ],
   "source": [
    "%%time\n",
    "chain.batch([{'pet':'dog'},{'pet':'cat'}])"
   ]
  },
  {
   "cell_type": "code",
   "execution_count": 61,
   "metadata": {},
   "outputs": [],
   "source": [
    "# STREAMING - \n",
    "response_streamed = chain.stream({'pet':'fish'})\n"
   ]
  },
  {
   "cell_type": "code",
   "execution_count": 60,
   "metadata": {},
   "outputs": [
    {
     "name": "stdout",
     "output_type": "stream",
     "text": [
      "['Here are some funny and disrespectful fish names:\\n\\n`Swim Shady']\n",
      "['Fish Stick']\n",
      "['Sir Swims-a-Lot']\n",
      "['Flipper von Fish']\n",
      "['Bubbles McFin']\n",
      "['Captain Splash']\n",
      "['Gill Gates']\n",
      "[\"Nemo's Nightmare\"]\n",
      "['Sushi Roll']\n",
      "['Scales McFinley`']\n"
     ]
    }
   ],
   "source": [
    "while True:\n",
    "    try:\n",
    "        print(next(response_streamed))\n",
    "    except:\n",
    "        break\n"
   ]
  },
  {
   "cell_type": "code",
   "execution_count": null,
   "metadata": {},
   "outputs": [],
   "source": [
    "#if not a list object\n",
    "for i in response_streamed:\n",
    "    print(i.content,end='')"
   ]
  },
  {
   "cell_type": "code",
   "execution_count": 63,
   "metadata": {},
   "outputs": [
    {
     "data": {
      "text/plain": [
       "langchain_core.runnables.base.RunnableSequence"
      ]
     },
     "execution_count": 63,
     "metadata": {},
     "output_type": "execute_result"
    }
   ],
   "source": [
    "type(chain)"
   ]
  },
  {
   "cell_type": "code",
   "execution_count": 64,
   "metadata": {},
   "outputs": [
    {
     "data": {
      "text/plain": [
       "langchain_core.prompts.chat.ChatPromptTemplate"
      ]
     },
     "execution_count": 64,
     "metadata": {},
     "output_type": "execute_result"
    }
   ],
   "source": [
    "type(chat_template)"
   ]
  }
 ],
 "metadata": {
  "kernelspec": {
   "display_name": "langchain_env",
   "language": "python",
   "name": "langchain_env"
  },
  "language_info": {
   "codemirror_mode": {
    "name": "ipython",
    "version": 3
   },
   "file_extension": ".py",
   "mimetype": "text/x-python",
   "name": "python",
   "nbconvert_exporter": "python",
   "pygments_lexer": "ipython3",
   "version": "3.10.10"
  }
 },
 "nbformat": 4,
 "nbformat_minor": 2
}
