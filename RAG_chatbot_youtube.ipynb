{
 "cells": [
  {
   "cell_type": "code",
   "execution_count": 1,
   "metadata": {},
   "outputs": [
    {
     "name": "stdout",
     "output_type": "stream",
     "text": [
      "Collecting youtube-transcript-api\n",
      "  Downloading youtube_transcript_api-0.6.2-py3-none-any.whl.metadata (15 kB)\n",
      "Requirement already satisfied: requests in f:\\users\\msi\\miniconda3\\envs\\lanchain_env\\lib\\site-packages (from youtube-transcript-api) (2.32.3)\n",
      "Requirement already satisfied: charset-normalizer<4,>=2 in f:\\users\\msi\\miniconda3\\envs\\lanchain_env\\lib\\site-packages (from requests->youtube-transcript-api) (3.4.0)\n",
      "Requirement already satisfied: idna<4,>=2.5 in f:\\users\\msi\\miniconda3\\envs\\lanchain_env\\lib\\site-packages (from requests->youtube-transcript-api) (3.10)\n",
      "Requirement already satisfied: urllib3<3,>=1.21.1 in f:\\users\\msi\\miniconda3\\envs\\lanchain_env\\lib\\site-packages (from requests->youtube-transcript-api) (2.2.3)\n",
      "Requirement already satisfied: certifi>=2017.4.17 in f:\\users\\msi\\miniconda3\\envs\\lanchain_env\\lib\\site-packages (from requests->youtube-transcript-api) (2024.8.30)\n",
      "Downloading youtube_transcript_api-0.6.2-py3-none-any.whl (24 kB)\n",
      "Installing collected packages: youtube-transcript-api\n",
      "Successfully installed youtube-transcript-api-0.6.2\n",
      "Note: you may need to restart the kernel to use updated packages.\n"
     ]
    }
   ],
   "source": [
    "%pip install youtube-transcript-api"
   ]
  },
  {
   "cell_type": "code",
   "execution_count": 3,
   "metadata": {},
   "outputs": [],
   "source": [
    "%load_ext dotenv\n",
    "%dotenv\n",
    "import os\n",
    "cohere_api_key = os.getenv('COHERE_API_KEY')"
   ]
  },
  {
   "cell_type": "code",
   "execution_count": 4,
   "metadata": {},
   "outputs": [],
   "source": [
    "from langchain_cohere import ChatCohere\n",
    "chat = ChatCohere(cohere_api_key=cohere_api_key)"
   ]
  },
  {
   "cell_type": "code",
   "execution_count": null,
   "metadata": {},
   "outputs": [],
   "source": [
    "from langchain_community.document_loaders import YoutubeLoader"
   ]
  },
  {
   "cell_type": "code",
   "execution_count": 9,
   "metadata": {},
   "outputs": [],
   "source": [
    "loader = YoutubeLoader.from_youtube_url(\n",
    "    \"https://www.youtube.com/watch?v=6Fa91SY9Gnw\", add_video_info=False\n",
    ")"
   ]
  },
  {
   "cell_type": "code",
   "execution_count": 27,
   "metadata": {},
   "outputs": [],
   "source": [
    "transcript = loader.load()"
   ]
  },
  {
   "cell_type": "code",
   "execution_count": 28,
   "metadata": {},
   "outputs": [],
   "source": [
    "transcript = transcript[0].page_content"
   ]
  },
  {
   "cell_type": "code",
   "execution_count": 29,
   "metadata": {},
   "outputs": [],
   "source": [
    "transcript_stripped = transcript.replace(u'\\xa0',u'').replace(u'\\uf0a7',u'')"
   ]
  },
  {
   "cell_type": "code",
   "execution_count": 33,
   "metadata": {},
   "outputs": [
    {
     "data": {
      "text/plain": [
       "5853"
      ]
     },
     "execution_count": 33,
     "metadata": {},
     "output_type": "execute_result"
    }
   ],
   "source": [
    "len(transcript_stripped)"
   ]
  },
  {
   "cell_type": "code",
   "execution_count": 34,
   "metadata": {},
   "outputs": [],
   "source": [
    "from langchain_text_splitters.character import CharacterTextSplitter\n",
    "# to avoid ending them abruptly use . and chunk overlap\n",
    "char_splitter = CharacterTextSplitter(separator=\".\",chunk_size=500,chunk_overlap=0)"
   ]
  },
  {
   "cell_type": "code",
   "execution_count": 35,
   "metadata": {},
   "outputs": [
    {
     "name": "stderr",
     "output_type": "stream",
     "text": [
      "Created a chunk of size 580, which is longer than the specified 500\n"
     ]
    }
   ],
   "source": [
    "transcripts_split = char_splitter.split_text(transcript_stripped)"
   ]
  },
  {
   "cell_type": "code",
   "execution_count": 37,
   "metadata": {},
   "outputs": [
    {
     "data": {
      "text/plain": [
       "15"
      ]
     },
     "execution_count": 37,
     "metadata": {},
     "output_type": "execute_result"
    }
   ],
   "source": [
    "len(transcripts_split)"
   ]
  },
  {
   "cell_type": "code",
   "execution_count": 38,
   "metadata": {},
   "outputs": [],
   "source": [
    "from langchain_cohere import CohereEmbeddings\n",
    "\n",
    "embeddings = CohereEmbeddings(\n",
    "    cohere_api_key=cohere_api_key,\n",
    "    model=\"embed-english-v3.0\",\n",
    ")"
   ]
  },
  {
   "cell_type": "code",
   "execution_count": 41,
   "metadata": {},
   "outputs": [],
   "source": [
    "from langchain_community.vectorstores import Chroma\n",
    "vectorstore = Chroma.from_texts(texts = transcripts_split,\n",
    "                                    embedding=embeddings,\n",
    "                                    persist_directory='./python-projects')"
   ]
  },
  {
   "cell_type": "code",
   "execution_count": 42,
   "metadata": {},
   "outputs": [],
   "source": [
    "retriever = vectorstore.as_retriever(search_type='mmr',search_kwargs={'k':3,'lambda_mult':0.3})"
   ]
  },
  {
   "cell_type": "code",
   "execution_count": 43,
   "metadata": {},
   "outputs": [
    {
     "name": "stderr",
     "output_type": "stream",
     "text": [
      "Number of requested results 20 is greater than number of elements in index 15, updating n_results = 15\n"
     ]
    },
    {
     "data": {
      "text/plain": [
       "[Document(metadata={}, page_content='But if you already have some basic Python experience and\\nwant to take it to the next level, in this video you’ll discover 4 interesting Python projects\\nfor beginners – all including code for practice! Great! So, let’s start with project\\nnumber 1 - Uber Trips Analysis Since it was founded in 2009, Uber has become one\\nof the most famous unicorn companies, offering its services to more than 80 countries worldwide'),\n",
       " Document(metadata={}, page_content='If you are\\naware of the risk to catch a certain disease, you will have the time to think and prepare,\\nwhich can save a lot of suffering and money. In this project, you’ll carefully analyze\\na dataset of 195 records to predict the likelihood of having Parkinson’s\\ndisease using an XGBBoost model'),\n",
       " Document(metadata={}, page_content='This\\nunreasonable behavior caused many deaths, especially in hospitals where most doctors—unlike\\ntoday—never washed their hands before surgeries. In the mid-1800s, the Hungarian physician, Dr.\\nIgnaz Semmelweis, decided to do something about this tragedy. He started investigating the reasons\\nbehind the deaths in Vienna general hospital and those of women giving birth in particular')]"
      ]
     },
     "execution_count": 43,
     "metadata": {},
     "output_type": "execute_result"
    }
   ],
   "source": [
    "retriever.invoke(\"Could you tell me all essential beginner python projects according to the video?\")"
   ]
  },
  {
   "cell_type": "code",
   "execution_count": 44,
   "metadata": {},
   "outputs": [],
   "source": [
    "TEMPLATE = '''\n",
    "You are a helpful chatbot that answers questions on Youtube videos.\n",
    "Answer the questions using only the following context:\n",
    "{context}\n",
    "'''\n",
    "TEMPLATE_Q = '''{question}'''"
   ]
  },
  {
   "cell_type": "code",
   "execution_count": 45,
   "metadata": {},
   "outputs": [],
   "source": [
    "from langchain_core.prompts import PromptTemplate, SystemMessagePromptTemplate,HumanMessagePromptTemplate,ChatPromptTemplate\n",
    "message_template_1 = SystemMessagePromptTemplate.from_template(template = TEMPLATE)\n",
    "message_template_2 = HumanMessagePromptTemplate.from_template(template=TEMPLATE_Q)\n",
    "chat_template = ChatPromptTemplate.from_messages([message_template_1,message_template_2])"
   ]
  },
  {
   "cell_type": "code",
   "execution_count": 46,
   "metadata": {},
   "outputs": [
    {
     "data": {
      "text/plain": [
       "ChatPromptTemplate(input_variables=['context', 'question'], input_types={}, partial_variables={}, messages=[SystemMessagePromptTemplate(prompt=PromptTemplate(input_variables=['context'], input_types={}, partial_variables={}, template='\\nYou are a helpful chatbot that answers questions on Youtube videos.\\nAnswer the questions using only the following context:\\n{context}\\n'), additional_kwargs={}), HumanMessagePromptTemplate(prompt=PromptTemplate(input_variables=['question'], input_types={}, partial_variables={}, template='{question}'), additional_kwargs={})])"
      ]
     },
     "execution_count": 46,
     "metadata": {},
     "output_type": "execute_result"
    }
   ],
   "source": [
    "chat_template"
   ]
  },
  {
   "cell_type": "code",
   "execution_count": null,
   "metadata": {},
   "outputs": [],
   "source": [
    "from langchain_core.output_parsers import StrOutputParser\n",
    "parser = StrOutputParser()"
   ]
  },
  {
   "cell_type": "code",
   "execution_count": null,
   "metadata": {},
   "outputs": [],
   "source": [
    "from langchain_core.runnables import RunnablePassthrough, RunnableParallel"
   ]
  },
  {
   "cell_type": "code",
   "execution_count": 59,
   "metadata": {},
   "outputs": [],
   "source": [
    "chain = ({'context':retriever,\n",
    "         'question':RunnablePassthrough()}\n",
    "         | chat_template\n",
    "         | chat\n",
    "         | parser\n",
    ")"
   ]
  },
  {
   "cell_type": "code",
   "execution_count": 61,
   "metadata": {},
   "outputs": [
    {
     "name": "stderr",
     "output_type": "stream",
     "text": [
      "Number of requested results 20 is greater than number of elements in index 15, updating n_results = 15\n"
     ]
    },
    {
     "data": {
      "text/plain": [
       "\"According to the video, these are the 4 essential beginner Python projects:\\n\\n1. Uber Trips Analysis: This project involves analyzing Uber trip data from its founding in 2009 to the present, offering insights into the company's operations across 80+ countries.\\n2. Parkinson's Disease Prediction: The project focuses on predicting the likelihood of having Parkinson's disease using an XGBoost model and a dataset of 195 records. It aims to raise awareness and provide time for preparation and treatment.\\n3. Ignaz Semmelweis and Handwashing: The project explores the mid-1800s story of Dr. Ignaz Semmelweis, who investigated the high death rates in hospitals, especially during childbirth, and linked it to doctors not washing their hands, leading to a significant change in medical practices.\\n4. Project Number 4 is not mentioned in the provided text.\""
      ]
     },
     "execution_count": 61,
     "metadata": {},
     "output_type": "execute_result"
    }
   ],
   "source": [
    "chain.invoke(\"Could you tell me all essential beginner python projects according to the video\")"
   ]
  }
 ],
 "metadata": {
  "kernelspec": {
   "display_name": "langchain_env",
   "language": "python",
   "name": "langchain_env"
  },
  "language_info": {
   "codemirror_mode": {
    "name": "ipython",
    "version": 3
   },
   "file_extension": ".py",
   "mimetype": "text/x-python",
   "name": "python",
   "nbconvert_exporter": "python",
   "pygments_lexer": "ipython3",
   "version": "3.10.10"
  }
 },
 "nbformat": 4,
 "nbformat_minor": 2
}
