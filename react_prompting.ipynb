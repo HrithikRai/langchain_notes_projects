{
 "cells": [
  {
   "cell_type": "code",
   "execution_count": 1,
   "metadata": {},
   "outputs": [
    {
     "name": "stdout",
     "output_type": "stream",
     "text": [
      "Collecting google-search-results\n",
      "  Downloading google_search_results-2.4.2.tar.gz (18 kB)\n",
      "  Preparing metadata (setup.py): started\n",
      "  Preparing metadata (setup.py): finished with status 'done'\n",
      "Requirement already satisfied: requests in f:\\users\\msi\\miniconda3\\envs\\lanchain_env\\lib\\site-packages (from google-search-results) (2.32.3)\n",
      "Requirement already satisfied: charset-normalizer<4,>=2 in f:\\users\\msi\\miniconda3\\envs\\lanchain_env\\lib\\site-packages (from requests->google-search-results) (3.4.0)\n",
      "Requirement already satisfied: idna<4,>=2.5 in f:\\users\\msi\\miniconda3\\envs\\lanchain_env\\lib\\site-packages (from requests->google-search-results) (3.10)\n",
      "Requirement already satisfied: urllib3<3,>=1.21.1 in f:\\users\\msi\\miniconda3\\envs\\lanchain_env\\lib\\site-packages (from requests->google-search-results) (2.2.3)\n",
      "Requirement already satisfied: certifi>=2017.4.17 in f:\\users\\msi\\miniconda3\\envs\\lanchain_env\\lib\\site-packages (from requests->google-search-results) (2024.8.30)\n",
      "Building wheels for collected packages: google-search-results\n",
      "  Building wheel for google-search-results (setup.py): started\n",
      "  Building wheel for google-search-results (setup.py): finished with status 'done'\n",
      "  Created wheel for google-search-results: filename=google_search_results-2.4.2-py3-none-any.whl size=32083 sha256=c8aa735428dfb13daf1b4b1751d4ab04d665018b55e45705f230554b7595dedb\n",
      "  Stored in directory: c:\\users\\msi\\appdata\\local\\pip\\cache\\wheels\\d3\\b2\\c3\\03302d12bb44a2cdff3c9371f31b72c0c4e84b8d2285eeac53\n",
      "Successfully built google-search-results\n",
      "Installing collected packages: google-search-results\n",
      "Successfully installed google-search-results-2.4.2\n",
      "Note: you may need to restart the kernel to use updated packages.\n"
     ]
    }
   ],
   "source": [
    "%pip install google-search-results\n"
   ]
  },
  {
   "cell_type": "code",
   "execution_count": 2,
   "metadata": {},
   "outputs": [],
   "source": [
    "%load_ext dotenv\n",
    "%dotenv"
   ]
  },
  {
   "cell_type": "code",
   "execution_count": 3,
   "metadata": {},
   "outputs": [],
   "source": [
    "import os\n",
    "cohere_api_key = os.getenv('COHERE_API_KEY')\n",
    "serper_api_key = os.getenv('SERPER_API_KEY')"
   ]
  },
  {
   "cell_type": "code",
   "execution_count": 5,
   "metadata": {},
   "outputs": [],
   "source": [
    "from langchain.llms import OpenAI\n",
    "from langchain.agents import load_tools\n",
    "from langchain.agents import initialize_agent\n",
    "from langchain_cohere import ChatCohere"
   ]
  },
  {
   "cell_type": "code",
   "execution_count": 8,
   "metadata": {},
   "outputs": [
    {
     "name": "stderr",
     "output_type": "stream",
     "text": [
      "C:\\Users\\MSI\\AppData\\Local\\Temp\\ipykernel_29416\\3974979582.py:3: LangChainDeprecationWarning: The function `initialize_agent` was deprecated in LangChain 0.1.0 and will be removed in 1.0. Use :meth:`~Use new agent constructor methods like create_react_agent, create_json_agent, create_structured_chat_agent, etc.` instead.\n",
      "  agent = initialize_agent(tools, llm, agent=\"zero-shot-react-description\", verbose=True)\n"
     ]
    }
   ],
   "source": [
    "llm = ChatCohere(cohere_api_key=cohere_api_key)\n",
    "tools = load_tools([\"google-serper\", \"llm-math\"], llm=llm)\n",
    "agent = initialize_agent(tools, llm, agent=\"zero-shot-react-description\", verbose=True)"
   ]
  },
  {
   "cell_type": "code",
   "execution_count": 11,
   "metadata": {},
   "outputs": [
    {
     "name": "stdout",
     "output_type": "stream",
     "text": [
      "\n",
      "\n",
      "\u001b[1m> Entering new AgentExecutor chain...\u001b[0m\n",
      "\u001b[32;1m\u001b[1;3mThought: First, I need to find out the capital of India.\n",
      "Action: google_serper\n",
      "Action Input: capital of IndiaO\u001b[0m\n",
      "Observation: \u001b[36;1m\u001b[1;3mNew Delhi is the capital of India and a part of the National Capital Territory of Delhi (NCT). New Delhi is the seat of all three branches of the Government ... New Delhi, national capital of India. It is situated in the north-central part of the country on the west bank of the Yamuna River. Delhi, officially the National Capital Territory (NCT) of Delhi, is a city and a union territory of India containing New Delhi, the capital of India. Delhi, city and national capital, and union territory, north-central India. The city of Delhi actually consists of two components: Old Delhi, in the north, ... The capital of India is New Delhi, located in the north-central part of the country to the west of the Yamuna River. New Delhi, the capital of India's British rulers, was the eight in the series of city built one after another by successive lines of rulers. States and Capitals · Andhra Pradesh(Amaravati) · Arunachal Pradesh(Itanagar) · Assam(Dispur) · Bihar(Patna) · Chhattisgarh(Raipur) · Goa(Panaji) · Gujarat(Gandhinagar) ... Lying in the northern part of the country, Delhi is surrounded by Haryana on all sides except the east, where it borders with Uttar Pradesh. the capital of India is a division of the old city of Delhi. synonyms: Indian capital, New Delhi. see moresee less. example of: national capital. What is the Capital of India? Capital City, New Delhi. Capital location, 28 36 N, 77 12 E.\u001b[0m\n",
      "Thought:\u001b[32;1m\u001b[1;3mThought: Now I know that the capital of India is New Delhi. Next, I need to find out how many neighboring countries India has.\n",
      "Action: google_serper\n",
      "Action Input: how many neighboring countries does India haveO\u001b[0m\n",
      "Observation: \u001b[36;1m\u001b[1;3mINDIA'S NEIGHBOURS The nine neighboring countries of India are – Afghanistan, Bangladesh, Bhutan, China, Maldives, Myanmar, Nepal, Pakistan, and Sri Lanka.\u001b[0m\n",
      "Thought:\u001b[32;1m\u001b[1;3mThought: I now know that India has 9 neighboring countries. I can now multiply this number by 2 to get the final answer.\n",
      "Action: Calculator\n",
      "Action Input: 9 * 2O\u001b[0m\n",
      "Observation: \u001b[33;1m\u001b[1;3mAnswer: 180\u001b[0m\n",
      "Thought:\u001b[32;1m\u001b[1;3mThought: I now know the final answer.\n",
      "Final Answer: The capital of India is New Delhi. If you multiply the number of neighboring countries India has by 2, you get 18.\u001b[0m\n",
      "\n",
      "\u001b[1m> Finished chain.\u001b[0m\n"
     ]
    },
    {
     "data": {
      "text/plain": [
       "'The capital of India is New Delhi. If you multiply the number of neighboring countries India has by 2, you get 18.'"
      ]
     },
     "execution_count": 11,
     "metadata": {},
     "output_type": "execute_result"
    }
   ],
   "source": [
    "agent.run(\"What is the capital of India? what will I get if I multiply 2 to the number of neighboring countries India has?\")"
   ]
  }
 ],
 "metadata": {
  "kernelspec": {
   "display_name": "lanchain_env",
   "language": "python",
   "name": "python3"
  },
  "language_info": {
   "codemirror_mode": {
    "name": "ipython",
    "version": 3
   },
   "file_extension": ".py",
   "mimetype": "text/x-python",
   "name": "python",
   "nbconvert_exporter": "python",
   "pygments_lexer": "ipython3",
   "version": "3.10.10"
  }
 },
 "nbformat": 4,
 "nbformat_minor": 2
}
