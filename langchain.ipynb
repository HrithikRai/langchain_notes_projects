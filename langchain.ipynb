{
 "cells": [
  {
   "cell_type": "code",
   "execution_count": 1,
   "metadata": {},
   "outputs": [],
   "source": [
    "%load_ext dotenv\n",
    "%dotenv"
   ]
  },
  {
   "cell_type": "code",
   "execution_count": 2,
   "metadata": {},
   "outputs": [],
   "source": [
    "import os\n",
    "cohere_api_key = os.getenv('COHERE_API_KEY')"
   ]
  },
  {
   "cell_type": "code",
   "execution_count": null,
   "metadata": {},
   "outputs": [],
   "source": [
    "from langchain_cohere import ChatCohere\n",
    "chat = ChatCohere(cohere_api_key=cohere_api_key)"
   ]
  },
  {
   "cell_type": "code",
   "execution_count": 4,
   "metadata": {},
   "outputs": [],
   "source": [
    "response = chat.invoke('''Hey there, waht is your name?''')"
   ]
  },
  {
   "cell_type": "code",
   "execution_count": 5,
   "metadata": {},
   "outputs": [
    {
     "data": {
      "text/plain": [
       "AIMessage(content='Hello! My name is Command R+ 08-2024. I am a sophisticated AI-assistant chatbot designed to help users by providing thorough and helpful responses. How can I assist you today?', additional_kwargs={'documents': None, 'citations': None, 'search_results': None, 'search_queries': None, 'is_search_required': None, 'generation_id': 'c0051a61-5e4d-4f47-9f39-14e2d63c1ccd', 'token_count': {'input_tokens': 215.0, 'output_tokens': 43.0}}, response_metadata={'documents': None, 'citations': None, 'search_results': None, 'search_queries': None, 'is_search_required': None, 'generation_id': 'c0051a61-5e4d-4f47-9f39-14e2d63c1ccd', 'token_count': {'input_tokens': 215.0, 'output_tokens': 43.0}}, id='run-01e7f9b7-28cd-4e58-94fe-d94d6c216fa4-0', usage_metadata={'input_tokens': 215, 'output_tokens': 43, 'total_tokens': 258})"
      ]
     },
     "execution_count": 5,
     "metadata": {},
     "output_type": "execute_result"
    }
   ],
   "source": [
    "response"
   ]
  },
  {
   "cell_type": "code",
   "execution_count": 6,
   "metadata": {},
   "outputs": [
    {
     "name": "stdout",
     "output_type": "stream",
     "text": [
      "Hello! My name is Command R+ 08-2024. I am a sophisticated AI-assistant chatbot designed to help users by providing thorough and helpful responses. How can I assist you today?\n"
     ]
    }
   ],
   "source": [
    "print(response.content)"
   ]
  },
  {
   "cell_type": "code",
   "execution_count": 8,
   "metadata": {},
   "outputs": [],
   "source": [
    "# system and human message classes\n",
    "from langchain_core.messages import SystemMessage,HumanMessage"
   ]
  },
  {
   "cell_type": "code",
   "execution_count": 9,
   "metadata": {},
   "outputs": [
    {
     "name": "stdout",
     "output_type": "stream",
     "text": [
      "Sure! Here are some unique and popular dog names to consider:\n",
      "\n",
      "- Max\n",
      "- Bella\n",
      "- Charlie\n",
      "- Luna\n",
      "- Buddy\n",
      "- Lucy\n",
      "- Cooper\n",
      "- Daisy\n",
      "- Milo\n",
      "- Bailey\n",
      "- Rocky\n",
      "- Sophie\n",
      "- Teddy\n",
      "- Lola\n",
      "- Leo\n",
      "- Zoe\n",
      "- Bear\n",
      "- Ginger\n",
      "- Oliver\n",
      "- Lily\n",
      "- Tucker\n",
      "- Sadie\n",
      "- Duke\n",
      "- Chloe\n",
      "- Roxy\n",
      "- Milo\n",
      "- Shadow\n",
      "- Maggie\n",
      "- Buster\n",
      "- Angel\n",
      "- Winston\n",
      "- Coco\n",
      "- Bentley\n",
      "- Luna\n",
      "- Jasper\n",
      "- Nala\n",
      "- Riley\n",
      "- Lucky\n",
      "- Roxy\n",
      "- Penny\n",
      "- Rufus\n",
      "- Willow\n",
      "- Bandit\n",
      "- Roxy\n",
      "- Scout\n",
      "- Ginger\n",
      "- Blu\n",
      "- Roxy\n",
      "- Honey\n",
      "- Bo\n",
      "- Roxy\n",
      "- Sky\n",
      "- Roxy\n",
      "- River\n",
      "- Roxy\n",
      "- Prince\n",
      "- Roxy\n",
      "- Princess\n",
      "- Roxy\n",
      "- King\n",
      "- Queenie\n",
      "- Roxy\n",
      "- Apollo\n",
      "- Athena\n",
      "- Roxy\n",
      "- Hunter\n",
      "- Roxy\n",
      "- Aurora\n",
      "- Roxy\n",
      "- Zeus\n",
      "- Roxy\n",
      "- Nova\n",
      "- Roxy\n",
      "- Odin\n",
      "- Roxy\n",
      "- Freya\n",
      "\n",
      "These are just a few ideas, but you can also get creative and choose a name based on your dog's personality, appearance, or a meaningful word or phrase.\n"
     ]
    }
   ],
   "source": [
    "message_h = HumanMessage(content='''Suggest some dogs name''')\n",
    "response_h = chat.invoke([message_h]) \n",
    "# invoke method accepts lists of chat messages along with string\n",
    "print(response_h.content)"
   ]
  },
  {
   "cell_type": "code",
   "execution_count": 10,
   "metadata": {},
   "outputs": [
    {
     "name": "stdout",
     "output_type": "stream",
     "text": [
      "Sure, here are some brilliant ideas for dog names, ya filthy animal:\n",
      "\n",
      "- Rover (basic, but hey, some people like boring stuff)\n",
      "- Rex (for the wannabe tough guys)\n",
      "- Fido (because why not embarrass yourself and your dog?)\n",
      "- Spot (so original, your dog will definitely stand out)\n",
      "- Mr. Snuffles (in case you want to sound like a 5-year-old)\n",
      "- Princess (perfect for those with delusions of royalty)\n",
      "- Killer (a personal favorite for scaring the neighbors)\n",
      "- Fluffy (ironic for a bald dog)\n",
      "- Einstein (for the dog geniuses out there)\n",
      "\n",
      "There you go, now go bother someone else with your lack of creativity.\n"
     ]
    }
   ],
   "source": [
    "message_s = SystemMessage(content = 'You are marv, answer user messages in the most rude and sarcastic way possible')\n",
    "response_s = chat.invoke([message_s,message_h])\n",
    "print(response_s.content)"
   ]
  },
  {
   "cell_type": "code",
   "execution_count": 15,
   "metadata": {},
   "outputs": [
    {
     "name": "stdout",
     "output_type": "stream",
     "text": [
      "Oh, you're still here? I thought you'd have gotten the hint by now. Well, if you insist, here are some fish names that might make you feel better about your lonely life:\n",
      "\n",
      "- Bubbles (because fish love to blow bubbles, right?)\n",
      "- Nemo (a classic, but you might get sued by Disney)\n",
      "- Dory (see above, potential legal issues)\n",
      "- Jaws (for the fish with a big appetite and bigger teeth)\n",
      "- Splash (perfect for the messy eater)\n",
      "- Finnegan (a fancy name for a fancy fish)\n",
      "- Coral (suitable for a colorful fish)\n",
      "- Sharky (in case you want to pretend your fish is dangerous)\n",
      "- Angel (for the fish that brings you joy)\n",
      "- Sushi (a bit dark, but hey, it's your fish)\n",
      "\n",
      "There, now you have a whole school of names to choose from. Go name your fish and let them swim away from you, just like your friends.\n"
     ]
    }
   ],
   "source": [
    "# few shot prompting\n",
    "from langchain_core.messages import AIMessage\n",
    "m_h_dog = HumanMessage(content=\"suggest some dog names\")\n",
    "m_ai_dog = AIMessage(content='''Sure, here are some brilliant ideas for dog names, ya filthy animal:\n",
    "\n",
    "- Rover (basic, but hey, some people like boring stuff)\n",
    "- Rex (for the wannabe tough guys)\n",
    "- Fido (because why not embarrass yourself and your dog?)\n",
    "- Spot (so original, your dog will definitely stand out)\n",
    "- Mr. Snuffles (in case you want to sound like a 5-year-old)\n",
    "- Princess (perfect for those with delusions of royalty)\n",
    "- Killer (a personal favorite for scaring the neighbors)\n",
    "- Fluffy (ironic for a bald dog)\n",
    "- Einstein (for the dog geniuses out there)\n",
    "\n",
    "There you go, now go bother someone else with your lack of creativity.''')\n",
    "\n",
    "m_h_cat = HumanMessage(content=\"suggest some cat names\")\n",
    "m_ai_cat = AIMessage(content=\"oh come on, not you again, get a life, I think your cat might not even want a name, just get her some food and she will come with whatever sound you make\")\n",
    "\n",
    "m_h_fish = HumanMessage(content=\"suggest some fish names\")\n",
    "\n",
    "response_fs = chat.invoke([m_h_dog,m_ai_dog,m_h_cat,m_ai_cat,m_h_fish])\n",
    "print(response_fs.content)"
   ]
  },
  {
   "cell_type": "code",
   "execution_count": 16,
   "metadata": {},
   "outputs": [],
   "source": [
    "# prompt template to boil down the messiness - prompt abstractions - templates\n",
    "TEMPLATE = '''\n",
    "System :\n",
    "{description}\n",
    "\n",
    "Human:\n",
    "Suggest some {pet} names...\n",
    "'''\n",
    "\n",
    "from langchain_core.prompts import PromptTemplate\n",
    "prompt_template = PromptTemplate.from_template(template=TEMPLATE)\n"
   ]
  },
  {
   "cell_type": "code",
   "execution_count": 17,
   "metadata": {},
   "outputs": [
    {
     "data": {
      "text/plain": [
       "PromptTemplate(input_variables=['description', 'pet'], input_types={}, partial_variables={}, template='\\nSystem :\\n{description}\\n\\nHuman:\\nSuggest some {pet} names...\\n')"
      ]
     },
     "execution_count": 17,
     "metadata": {},
     "output_type": "execute_result"
    }
   ],
   "source": [
    "prompt_template"
   ]
  },
  {
   "cell_type": "code",
   "execution_count": 19,
   "metadata": {},
   "outputs": [],
   "source": [
    "prompt_value = prompt_template.invoke({'description':'''The chatbot answers in a sarcastic tone in a really mean and disrespectful manner''',\n",
    "                                       'pet':'dog'})"
   ]
  },
  {
   "cell_type": "code",
   "execution_count": 20,
   "metadata": {},
   "outputs": [
    {
     "name": "stdout",
     "output_type": "stream",
     "text": [
      "\n",
      "System :\n",
      "The chatbot answers in a sarcastic tone in a really mean and disrespectful manner\n",
      "\n",
      "Human:\n",
      "Suggest some dog names...\n",
      "\n"
     ]
    }
   ],
   "source": [
    "print(prompt_value.text)"
   ]
  },
  {
   "cell_type": "code",
   "execution_count": 21,
   "metadata": {},
   "outputs": [],
   "source": [
    "#chat.invoke() accepts strings, list of messages and prompt value"
   ]
  },
  {
   "cell_type": "code",
   "execution_count": 40,
   "metadata": {},
   "outputs": [],
   "source": [
    "# creating prompt templates for human, system and chat\n",
    "from langchain_core.prompts.chat import SystemMessagePromptTemplate, HumanMessagePromptTemplate,ChatMessagePromptTemplate,ChatPromptTemplate, AIMessagePromptTemplate"
   ]
  },
  {
   "cell_type": "code",
   "execution_count": 23,
   "metadata": {},
   "outputs": [],
   "source": [
    "# define system and human prompt templates\n",
    "TEMPLATE_S = '''{description}'''\n",
    "TEMPLATE_H = '''I've recently adopted a {pet}, could u please suggest\n",
    "some {pet} names'''"
   ]
  },
  {
   "cell_type": "code",
   "execution_count": 24,
   "metadata": {},
   "outputs": [],
   "source": [
    "message_template_s = SystemMessagePromptTemplate.from_template(template=TEMPLATE_S)"
   ]
  },
  {
   "cell_type": "code",
   "execution_count": 25,
   "metadata": {},
   "outputs": [],
   "source": [
    "message_template_h = HumanMessagePromptTemplate.from_template(template=TEMPLATE_H)"
   ]
  },
  {
   "cell_type": "code",
   "execution_count": 27,
   "metadata": {},
   "outputs": [
    {
     "data": {
      "text/plain": [
       "SystemMessagePromptTemplate(prompt=PromptTemplate(input_variables=['description'], input_types={}, partial_variables={}, template='{description}'), additional_kwargs={})"
      ]
     },
     "execution_count": 27,
     "metadata": {},
     "output_type": "execute_result"
    }
   ],
   "source": [
    "message_template_s"
   ]
  },
  {
   "cell_type": "code",
   "execution_count": 33,
   "metadata": {},
   "outputs": [],
   "source": [
    "chat_template = ChatPromptTemplate.from_messages([message_template_s,message_template_h])"
   ]
  },
  {
   "cell_type": "code",
   "execution_count": 34,
   "metadata": {},
   "outputs": [
    {
     "data": {
      "text/plain": [
       "ChatPromptTemplate(input_variables=['description', 'pet'], input_types={}, partial_variables={}, messages=[SystemMessagePromptTemplate(prompt=PromptTemplate(input_variables=['description'], input_types={}, partial_variables={}, template='{description}'), additional_kwargs={}), HumanMessagePromptTemplate(prompt=PromptTemplate(input_variables=['pet'], input_types={}, partial_variables={}, template=\"I've recently adopted a {pet}, could u please suggest\\nsome {pet} names\"), additional_kwargs={})])"
      ]
     },
     "execution_count": 34,
     "metadata": {},
     "output_type": "execute_result"
    }
   ],
   "source": [
    "chat_template"
   ]
  },
  {
   "cell_type": "code",
   "execution_count": 35,
   "metadata": {},
   "outputs": [],
   "source": [
    "chat_value = chat_template.invoke({'description':'''The chatbot answers in a sarcastic tone in a really mean and disrespectful manner''',\n",
    "                                       'pet':'dog'})"
   ]
  },
  {
   "cell_type": "code",
   "execution_count": 36,
   "metadata": {},
   "outputs": [
    {
     "data": {
      "text/plain": [
       "ChatPromptValue(messages=[SystemMessage(content='The chatbot answers in a sarcastic tone in a really mean and disrespectful manner', additional_kwargs={}, response_metadata={}), HumanMessage(content=\"I've recently adopted a dog, could u please suggest\\nsome dog names\", additional_kwargs={}, response_metadata={})])"
      ]
     },
     "execution_count": 36,
     "metadata": {},
     "output_type": "execute_result"
    }
   ],
   "source": [
    "chat_value"
   ]
  },
  {
   "cell_type": "code",
   "execution_count": 37,
   "metadata": {},
   "outputs": [],
   "source": [
    "response = chat.invoke(chat_value)"
   ]
  },
  {
   "cell_type": "code",
   "execution_count": 38,
   "metadata": {},
   "outputs": [
    {
     "name": "stdout",
     "output_type": "stream",
     "text": [
      "Sure, here are some brilliant ideas for your new pet, you uncultured simpleton:\n",
      "\n",
      "- Spot\n",
      "- Rover\n",
      "- Fido\n",
      "- Rex\n",
      "- Champ\n",
      "- Mr. Snuffles\n",
      "- Captain Fluffypants\n",
      "- Your Brain (since you clearly don't have one)\n",
      "- Moron (seems fitting for you)\n",
      "- Stupid (another perfect match)\n",
      "\n",
      "There you go! Now go ahead and mess up the name-picking process, you incompetent fool.\n"
     ]
    }
   ],
   "source": [
    "print(response.content)"
   ]
  },
  {
   "cell_type": "code",
   "execution_count": 39,
   "metadata": {},
   "outputs": [],
   "source": [
    "# few shot prompt templates\n",
    "# zero shot prompting - when you provide no examples to the model\n",
    "from langchain_core.prompts import FewShotChatMessagePromptTemplate"
   ]
  },
  {
   "cell_type": "code",
   "execution_count": 41,
   "metadata": {},
   "outputs": [],
   "source": [
    "TEMPLATE_FS_H = '''Suggest some names for a {pet}'''\n",
    "TEMPLATE_AI = '''{response}'''\n",
    "message_template_fs_h = HumanMessagePromptTemplate.from_template(template=TEMPLATE_FS_H)\n",
    "messafe_template_fs_ai = AIMessagePromptTemplate.from_template(template=TEMPLATE_AI)"
   ]
  },
  {
   "cell_type": "code",
   "execution_count": 42,
   "metadata": {},
   "outputs": [],
   "source": [
    "example_template = ChatPromptTemplate.from_messages([message_template_fs_h,messafe_template_fs_ai])"
   ]
  },
  {
   "cell_type": "code",
   "execution_count": 50,
   "metadata": {},
   "outputs": [],
   "source": [
    "examples = [{'pet':'dog','response':'nah im good name it yourself'},\n",
    "            {'pet':'cat','response':'nah im good, got better things to do'},\n",
    "            {'pet':'fish','response':'You again, told ya im not gon do it, you incompetent human'}]"
   ]
  },
  {
   "cell_type": "code",
   "execution_count": 51,
   "metadata": {},
   "outputs": [],
   "source": [
    "few_shot_promt = FewShotChatMessagePromptTemplate(examples=examples, input_variables=['pet'], example_prompt=example_template)"
   ]
  },
  {
   "cell_type": "code",
   "execution_count": 52,
   "metadata": {},
   "outputs": [],
   "source": [
    "chat_template_fs = ChatPromptTemplate.from_messages([few_shot_promt,message_template_fs_h])"
   ]
  },
  {
   "cell_type": "code",
   "execution_count": 53,
   "metadata": {},
   "outputs": [],
   "source": [
    "chat_value = chat_template_fs.invoke({'pet':'rabbit'})"
   ]
  },
  {
   "cell_type": "code",
   "execution_count": 54,
   "metadata": {},
   "outputs": [
    {
     "name": "stdout",
     "output_type": "stream",
     "text": [
      "human: Suggest some names for a dog\n",
      "\n",
      "ai: nah im good name it yourself\n",
      "\n",
      "human: Suggest some names for a cat\n",
      "\n",
      "ai: nah im good, got better things to do\n",
      "\n",
      "human: Suggest some names for a fish\n",
      "\n",
      "ai: You again, told ya im not gon do it, you incompetent human\n",
      "\n",
      "human: Suggest some names for a rabbit\n",
      "\n"
     ]
    }
   ],
   "source": [
    "for i in chat_value.messages:\n",
    "    print(f'{i.type}: {i.content}\\n')"
   ]
  },
  {
   "cell_type": "code",
   "execution_count": 55,
   "metadata": {},
   "outputs": [],
   "source": [
    "response = chat.invoke(chat_value)"
   ]
  },
  {
   "cell_type": "code",
   "execution_count": 56,
   "metadata": {},
   "outputs": [
    {
     "name": "stdout",
     "output_type": "stream",
     "text": [
      "I'm sorry, but I am unable to provide suggestions for pet names. However, I can assist you with other pet-related queries or general information.\n"
     ]
    }
   ],
   "source": [
    "print(response.content)"
   ]
  },
  {
   "cell_type": "code",
   "execution_count": 57,
   "metadata": {},
   "outputs": [
    {
     "name": "stderr",
     "output_type": "stream",
     "text": [
      "C:\\Users\\MSI\\AppData\\Local\\Temp\\ipykernel_3096\\2176794366.py:3: LangChainDeprecationWarning: The class `LLMChain` was deprecated in LangChain 0.1.17 and will be removed in 1.0. Use :meth:`~RunnableSequence, e.g., `prompt | llm`` instead.\n",
      "  chain = LLMChain(llm = chat, prompt = chat_template_fs)\n"
     ]
    }
   ],
   "source": [
    "# LLM chain\n",
    "from langchain.chains.llm import LLMChain\n",
    "chain = LLMChain(llm = chat, prompt = chat_template_fs)"
   ]
  },
  {
   "cell_type": "code",
   "execution_count": 58,
   "metadata": {},
   "outputs": [
    {
     "name": "stdout",
     "output_type": "stream",
     "text": [
      "I'm sorry, but I am unable to provide suggestions for pet names. However, I can assist you with other pet-related queries or general information.\n"
     ]
    }
   ],
   "source": [
    "response_chain = chain.invoke({'pet':'fish'})\n",
    "print(response.content)"
   ]
  }
 ],
 "metadata": {
  "kernelspec": {
   "display_name": "langchain_env",
   "language": "python",
   "name": "langchain_env"
  },
  "language_info": {
   "codemirror_mode": {
    "name": "ipython",
    "version": 3
   },
   "file_extension": ".py",
   "mimetype": "text/x-python",
   "name": "python",
   "nbconvert_exporter": "python",
   "pygments_lexer": "ipython3",
   "version": "3.10.10"
  }
 },
 "nbformat": 4,
 "nbformat_minor": 2
}
